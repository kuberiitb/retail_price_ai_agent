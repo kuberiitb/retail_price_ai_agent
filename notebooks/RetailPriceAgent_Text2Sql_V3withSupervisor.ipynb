{
  "nbformat": 4,
  "nbformat_minor": 0,
  "metadata": {
    "colab": {
      "provenance": [],
      "include_colab_link": true
    },
    "kernelspec": {
      "name": "python3",
      "display_name": "Python 3"
    },
    "language_info": {
      "name": "python"
    }
  },
  "cells": [
    {
      "cell_type": "markdown",
      "metadata": {
        "id": "view-in-github",
        "colab_type": "text"
      },
      "source": [
        "<a href=\"https://colab.research.google.com/github/kuberiitb/retail_price_ai_agent/blob/main/notebooks/RetailPriceAgent_Text2Sql_V3withSupervisor.ipynb\" target=\"_parent\"><img src=\"https://colab.research.google.com/assets/colab-badge.svg\" alt=\"Open In Colab\"/></a>"
      ]
    },
    {
      "cell_type": "markdown",
      "source": [
        "Agent created using code from [LangGraph Tutorial](https://python.langchain.com/docs/tutorials/sql_qa/)"
      ],
      "metadata": {
        "id": "v-cqjNmtPa-c"
      }
    },
    {
      "cell_type": "code",
      "execution_count": 2,
      "metadata": {
        "id": "EFRwAe-hOkeC",
        "colab": {
          "base_uri": "https://localhost:8080/"
        },
        "outputId": "5d39e41b-9159-4a7a-f668-e262181b9c9e"
      },
      "outputs": [
        {
          "output_type": "stream",
          "name": "stdout",
          "text": [
            "\u001b[?25l   \u001b[90m━━━━━━━━━━━━━━━━━━━━━━━━━━━━━━━━━━━━━━━━\u001b[0m \u001b[32m0.0/2.5 MB\u001b[0m \u001b[31m?\u001b[0m eta \u001b[36m-:--:--\u001b[0m\r\u001b[2K   \u001b[91m━━━━━━━━━━━━\u001b[0m\u001b[91m╸\u001b[0m\u001b[90m━━━━━━━━━━━━━━━━━━━━━━━━━━━\u001b[0m \u001b[32m0.8/2.5 MB\u001b[0m \u001b[31m24.9 MB/s\u001b[0m eta \u001b[36m0:00:01\u001b[0m\r\u001b[2K   \u001b[91m━━━━━━━━━━━━━━━━━━━━━━━━━━━━━━━━━━━━━━━\u001b[0m\u001b[91m╸\u001b[0m \u001b[32m2.5/2.5 MB\u001b[0m \u001b[31m49.7 MB/s\u001b[0m eta \u001b[36m0:00:01\u001b[0m\r\u001b[2K   \u001b[90m━━━━━━━━━━━━━━━━━━━━━━━━━━━━━━━━━━━━━━━━\u001b[0m \u001b[32m2.5/2.5 MB\u001b[0m \u001b[31m34.9 MB/s\u001b[0m eta \u001b[36m0:00:00\u001b[0m\n",
            "\u001b[?25h\u001b[?25l   \u001b[90m━━━━━━━━━━━━━━━━━━━━━━━━━━━━━━━━━━━━━━━━\u001b[0m \u001b[32m0.0/76.0 kB\u001b[0m \u001b[31m?\u001b[0m eta \u001b[36m-:--:--\u001b[0m\r\u001b[2K   \u001b[90m━━━━━━━━━━━━━━━━━━━━━━━━━━━━━━━━━━━━━━━━\u001b[0m \u001b[32m76.0/76.0 kB\u001b[0m \u001b[31m6.3 MB/s\u001b[0m eta \u001b[36m0:00:00\u001b[0m\n",
            "\u001b[2K   \u001b[90m━━━━━━━━━━━━━━━━━━━━━━━━━━━━━━━━━━━━━━━━\u001b[0m \u001b[32m155.4/155.4 kB\u001b[0m \u001b[31m12.5 MB/s\u001b[0m eta \u001b[36m0:00:00\u001b[0m\n",
            "\u001b[2K   \u001b[90m━━━━━━━━━━━━━━━━━━━━━━━━━━━━━━━━━━━━━━━━\u001b[0m \u001b[32m1.6/1.6 MB\u001b[0m \u001b[31m46.9 MB/s\u001b[0m eta \u001b[36m0:00:00\u001b[0m\n",
            "\u001b[2K   \u001b[90m━━━━━━━━━━━━━━━━━━━━━━━━━━━━━━━━━━━━━━━━\u001b[0m \u001b[32m45.8/45.8 kB\u001b[0m \u001b[31m3.3 MB/s\u001b[0m eta \u001b[36m0:00:00\u001b[0m\n",
            "\u001b[2K   \u001b[90m━━━━━━━━━━━━━━━━━━━━━━━━━━━━━━━━━━━━━━━━\u001b[0m \u001b[32m56.8/56.8 kB\u001b[0m \u001b[31m3.0 MB/s\u001b[0m eta \u001b[36m0:00:00\u001b[0m\n",
            "\u001b[2K   \u001b[90m━━━━━━━━━━━━━━━━━━━━━━━━━━━━━━━━━━━━━━━━\u001b[0m \u001b[32m64.7/64.7 kB\u001b[0m \u001b[31m4.5 MB/s\u001b[0m eta \u001b[36m0:00:00\u001b[0m\n",
            "\u001b[2K   \u001b[90m━━━━━━━━━━━━━━━━━━━━━━━━━━━━━━━━━━━━━━━━\u001b[0m \u001b[32m50.9/50.9 kB\u001b[0m \u001b[31m4.2 MB/s\u001b[0m eta \u001b[36m0:00:00\u001b[0m\n",
            "\u001b[2K   \u001b[90m━━━━━━━━━━━━━━━━━━━━━━━━━━━━━━━━━━━━━━━━\u001b[0m \u001b[32m207.6/207.6 kB\u001b[0m \u001b[31m16.5 MB/s\u001b[0m eta \u001b[36m0:00:00\u001b[0m\n",
            "\u001b[?25h\u001b[31mERROR: pip's dependency resolver does not currently take into account all the packages that are installed. This behaviour is the source of the following dependency conflicts.\n",
            "google-colab 1.0.0 requires requests==2.32.4, but you have requests 2.32.5 which is incompatible.\u001b[0m\u001b[31m\n",
            "\u001b[0m"
          ]
        }
      ],
      "source": [
        "!pip install langchain langchain_community langchain-openai langgraph ipython --quiet"
      ]
    },
    {
      "cell_type": "markdown",
      "source": [
        "# Setting up SQL data"
      ],
      "metadata": {
        "id": "NcBT-c-aGVdH"
      }
    },
    {
      "cell_type": "code",
      "source": [
        "from langchain_community.utilities import SQLDatabase\n",
        "\n",
        "db = SQLDatabase.from_uri(\"sqlite:///retail_price_agent.db\")\n",
        "print(db.get_usable_table_names())"
      ],
      "metadata": {
        "colab": {
          "base_uri": "https://localhost:8080/"
        },
        "id": "xSuvuhFfQlQw",
        "outputId": "c0679b85-c917-46ed-f2e7-0bbf87746b0b"
      },
      "execution_count": 76,
      "outputs": [
        {
          "output_type": "stream",
          "name": "stdout",
          "text": [
            "['competitior_information', 'current_product_information', 'forecast_data', 'historical_data', 'inventory_data']\n"
          ]
        }
      ]
    },
    {
      "cell_type": "code",
      "source": [
        "print(db.get_table_info([\"historical_data\"]))"
      ],
      "metadata": {
        "colab": {
          "base_uri": "https://localhost:8080/"
        },
        "id": "BEzGs_FIqjO_",
        "outputId": "f3a6866a-72df-4ee4-8060-dfec235ada11"
      },
      "execution_count": 77,
      "outputs": [
        {
          "output_type": "stream",
          "name": "stdout",
          "text": [
            "\n",
            "CREATE TABLE historical_data (\n",
            "\tsku_id INTEGER, \n",
            "\tproduct_name TEXT, \n",
            "\tcategory TEXT, \n",
            "\tdate TIMESTAMP, \n",
            "\tunit_price REAL, \n",
            "\tunit_cost REAL, \n",
            "\tdiscount_pct REAL, \n",
            "\tseasonality_factor REAL, \n",
            "\tunits_sold REAL, \n",
            "\trevenue REAL, \n",
            "\tprofit REAL\n",
            ")\n",
            "\n",
            "/*\n",
            "3 rows from historical_data table:\n",
            "sku_id\tproduct_name\tcategory\tdate\tunit_price\tunit_cost\tdiscount_pct\tseasonality_factor\tunits_sold\trevenue\tprofit\n",
            "1\tt-shirt\tmen\t2023-06-01 00:00:00\t1165.0\t753.0\t20.0\t1.1\t57.0\t66405.0\t23484.0\n",
            "1\tt-shirt\tmen\t2023-07-01 00:00:00\t1171.0\t753.0\t20.0\t1.1\t56.0\t65576.0\t23408.0\n",
            "1\tt-shirt\tmen\t2023-08-01 00:00:00\t1456.0\t753.0\t0.0\t1.1\t38.0\t55328.0\t26714.0\n",
            "*/\n"
          ]
        }
      ]
    },
    {
      "cell_type": "code",
      "source": [
        "db.run(\"SELECT * FROM historical_data LIMIT 10;\")"
      ],
      "metadata": {
        "colab": {
          "base_uri": "https://localhost:8080/",
          "height": 122
        },
        "id": "xsrTrnIep2OM",
        "outputId": "488877e6-659c-4d08-e3ec-95812b890f76"
      },
      "execution_count": 78,
      "outputs": [
        {
          "output_type": "execute_result",
          "data": {
            "text/plain": [
              "\"[(1, 't-shirt', 'men', '2023-06-01 00:00:00', 1165.0, 753.0, 20.0, 1.1, 57.0, 66405.0, 23484.0), (1, 't-shirt', 'men', '2023-07-01 00:00:00', 1171.0, 753.0, 20.0, 1.1, 56.0, 65576.0, 23408.0), (1, 't-shirt', 'men', '2023-08-01 00:00:00', 1456.0, 753.0, 0.0, 1.1, 38.0, 55328.0, 26714.0), (1, 't-shirt', 'men', '2023-09-01 00:00:00', 1460.0, 753.0, 0.0, 0.9, 31.0, 45260.0, 21917.0), (1, 't-shirt', 'men', '2023-10-01 00:00:00', 1453.0, 753.0, 0.0, 0.9, 31.0, 45043.0, 21700.0), (1, 't-shirt', 'men', '2023-11-01 00:00:00', 1452.0, 753.0, 0.0, 1.3, 45.0, 65340.0, 31455.0), (1, 't-shirt', 'men', '2023-12-01 00:00:00', 1161.0, 753.0, 20.0, 1.3, 67.0, 77787.0, 27336.0), (1, 't-shirt', 'men', '2024-01-01 00:00:00', 1455.0, 753.0, 0.0, 0.9, 31.0, 45105.0, 21762.0), (1, 't-shirt', 'men', '2024-02-01 00:00:00', 1450.0, 753.0, 0.0, 0.9, 31.0, 44950.0, 21607.0), (1, 't-shirt', 'men', '2024-03-01 00:00:00', 1461.0, 753.0, 0.0, 0.9, 31.0, 45291.0, 21948.0)]\""
            ],
            "application/vnd.google.colaboratory.intrinsic+json": {
              "type": "string"
            }
          },
          "metadata": {},
          "execution_count": 78
        }
      ]
    },
    {
      "cell_type": "code",
      "source": [
        "db.run(\"SELECT * FROM competitior_information LIMIT 10;\")"
      ],
      "metadata": {
        "colab": {
          "base_uri": "https://localhost:8080/",
          "height": 35
        },
        "id": "QcFVCqHSp2Qq",
        "outputId": "47cb9940-4f82-49b2-c011-587d451c5589"
      },
      "execution_count": 79,
      "outputs": [
        {
          "output_type": "execute_result",
          "data": {
            "text/plain": [
              "\"[(1, 't-shirt', 'men', 864.5, 'BTGO', 0.3), (8, 't-shirt', 'women', 946.4, 'BTGO', 0.3)]\""
            ],
            "application/vnd.google.colaboratory.intrinsic+json": {
              "type": "string"
            }
          },
          "metadata": {},
          "execution_count": 79
        }
      ]
    },
    {
      "cell_type": "code",
      "source": [
        "db.run(\"SELECT * FROM forecast_data LIMIT 10;\")"
      ],
      "metadata": {
        "colab": {
          "base_uri": "https://localhost:8080/",
          "height": 70
        },
        "id": "_POScAN7p2Sx",
        "outputId": "f6b436f2-dc13-48ec-b196-5ee7a0d91469"
      },
      "execution_count": 80,
      "outputs": [
        {
          "output_type": "execute_result",
          "data": {
            "text/plain": [
              "\"[(1, 't-shirt', 'men', '2025-09-01 00:00:00', 41.0), (1, 't-shirt', 'men', '2025-10-01 00:00:00', 41.0), (1, 't-shirt', 'men', '2025-11-01 00:00:00', 41.0), (1, 't-shirt', 'men', '2025-12-01 00:00:00', 41.0), (1, 't-shirt', 'men', '2026-01-01 00:00:00', 41.0), (1, 't-shirt', 'men', '2026-02-01 00:00:00', 41.0), (8, 't-shirt', 'women', '2025-09-01 00:00:00', 33.0), (8, 't-shirt', 'women', '2025-10-01 00:00:00', 33.0), (8, 't-shirt', 'women', '2025-11-01 00:00:00', 33.0), (8, 't-shirt', 'women', '2025-12-01 00:00:00', 33.0)]\""
            ],
            "application/vnd.google.colaboratory.intrinsic+json": {
              "type": "string"
            }
          },
          "metadata": {},
          "execution_count": 80
        }
      ]
    },
    {
      "cell_type": "code",
      "source": [
        "db.run(\"SELECT * FROM inventory_data LIMIT 10;\")"
      ],
      "metadata": {
        "colab": {
          "base_uri": "https://localhost:8080/",
          "height": 35
        },
        "id": "89tN7Vnap9mD",
        "outputId": "763d4d48-8b47-4e30-f4ef-dbe1200c70c1"
      },
      "execution_count": 81,
      "outputs": [
        {
          "output_type": "execute_result",
          "data": {
            "text/plain": [
              "\"[(1, 't-shirt', 'men', 82.0), (8, 't-shirt', 'women', 99.0)]\""
            ],
            "application/vnd.google.colaboratory.intrinsic+json": {
              "type": "string"
            }
          },
          "metadata": {},
          "execution_count": 81
        }
      ]
    },
    {
      "cell_type": "code",
      "source": [
        "db.run(\"SELECT * FROM current_product_information LIMIT 10;\")"
      ],
      "metadata": {
        "colab": {
          "base_uri": "https://localhost:8080/",
          "height": 35
        },
        "id": "KHI8ksUhHai9",
        "outputId": "1200f655-cd86-4706-dcc1-550be1a79bc1"
      },
      "execution_count": 82,
      "outputs": [
        {
          "output_type": "execute_result",
          "data": {
            "text/plain": [
              "'[(1, 1460.0, 500.0, -1.06, 0.94), (8, 1820.0, 800.0, -0.93, 1.08)]'"
            ],
            "application/vnd.google.colaboratory.intrinsic+json": {
              "type": "string"
            }
          },
          "metadata": {},
          "execution_count": 82
        }
      ]
    },
    {
      "cell_type": "code",
      "source": [
        "from sqlalchemy import create_engine, inspect\n",
        "\n",
        "engine = create_engine(\"sqlite:///retail_price_agent.db\")\n",
        "inspector = inspect(engine)\n",
        "\n",
        "columns = inspector.get_columns(\"inventory_data\")\n",
        "for col in columns:\n",
        "    print(col[\"name\"], col[\"type\"])"
      ],
      "metadata": {
        "id": "JRB0mr_UqMN_",
        "colab": {
          "base_uri": "https://localhost:8080/"
        },
        "outputId": "e985e9dd-f469-4fbc-a147-21a2346ef582"
      },
      "execution_count": 83,
      "outputs": [
        {
          "output_type": "stream",
          "name": "stdout",
          "text": [
            "sku_id INTEGER\n",
            "product_name TEXT\n",
            "category TEXT\n",
            "stock REAL\n"
          ]
        }
      ]
    },
    {
      "cell_type": "code",
      "source": [
        "# Langgraph State\n",
        "from typing_extensions import TypedDict\n",
        "\n",
        "class State(TypedDict):\n",
        "    question: str\n",
        "    query: str\n",
        "    result: str\n",
        "    answer: str"
      ],
      "metadata": {
        "id": "DzwZc7-BROow"
      },
      "execution_count": 84,
      "outputs": []
    },
    {
      "cell_type": "markdown",
      "source": [
        "# Setup LLM"
      ],
      "metadata": {
        "id": "R4TGknQhOeZi"
      }
    },
    {
      "cell_type": "code",
      "source": [
        "import os\n",
        "from dotenv import load_dotenv\n",
        "load_dotenv(\".env\")"
      ],
      "metadata": {
        "colab": {
          "base_uri": "https://localhost:8080/"
        },
        "id": "DD09jynQSuDd",
        "outputId": "2a7ba033-8593-4f08-a145-fb050d47f94d"
      },
      "execution_count": 85,
      "outputs": [
        {
          "output_type": "execute_result",
          "data": {
            "text/plain": [
              "True"
            ]
          },
          "metadata": {},
          "execution_count": 85
        }
      ]
    },
    {
      "cell_type": "code",
      "source": [
        "# from langchain.chat_models import ChatOpenAI\n",
        "\n",
        "if not os.environ[\"OPENAI_API_KEY\"]:\n",
        "    os.environ[\"OPENAI_API_KEY\"] = os.getenv(\"OPENAI_API_KEY\")\n",
        "\n",
        "# llm = ChatOpenAI(model=\"gpt-4o-mini\", temperature=0.1)\n",
        "\n",
        "from langchain.chat_models import init_chat_model\n",
        "\n",
        "llm = init_chat_model(\"gpt-4o-mini\", model_provider=\"openai\")"
      ],
      "metadata": {
        "id": "Rimz3dC8RkFe"
      },
      "execution_count": 86,
      "outputs": []
    },
    {
      "cell_type": "code",
      "source": [
        "llm.invoke(\"Hi\").content"
      ],
      "metadata": {
        "colab": {
          "base_uri": "https://localhost:8080/",
          "height": 35
        },
        "id": "EvHMUwglSiRr",
        "outputId": "d6d972c2-6662-4771-c661-0dd27a151a86"
      },
      "execution_count": 87,
      "outputs": [
        {
          "output_type": "execute_result",
          "data": {
            "text/plain": [
              "'Hello! How can I assist you today?'"
            ],
            "application/vnd.google.colaboratory.intrinsic+json": {
              "type": "string"
            }
          },
          "metadata": {},
          "execution_count": 87
        }
      ]
    },
    {
      "cell_type": "markdown",
      "source": [
        "# Using inbuilt Langgraph ReAct agent"
      ],
      "metadata": {
        "id": "P8-zZ3ayeYR4"
      }
    },
    {
      "cell_type": "code",
      "source": [
        "from langchain_community.agent_toolkits import SQLDatabaseToolkit\n",
        "\n",
        "toolkit = SQLDatabaseToolkit(db=db, llm=llm)\n",
        "\n",
        "tools = toolkit.get_tools()\n",
        "\n",
        "for t in tools:\n",
        "  print(t.name, \":\", t.description)"
      ],
      "metadata": {
        "colab": {
          "base_uri": "https://localhost:8080/"
        },
        "id": "LRtg8cLfd_tO",
        "outputId": "7dd89a41-eace-4ba4-a013-091576ba72de"
      },
      "execution_count": 88,
      "outputs": [
        {
          "output_type": "stream",
          "name": "stdout",
          "text": [
            "sql_db_query : Input to this tool is a detailed and correct SQL query, output is a result from the database. If the query is not correct, an error message will be returned. If an error is returned, rewrite the query, check the query, and try again. If you encounter an issue with Unknown column 'xxxx' in 'field list', use sql_db_schema to query the correct table fields.\n",
            "sql_db_schema : Input to this tool is a comma-separated list of tables, output is the schema and sample rows for those tables. Be sure that the tables actually exist by calling sql_db_list_tables first! Example Input: table1, table2, table3\n",
            "sql_db_list_tables : Input is an empty string, output is a comma-separated list of tables in the database.\n",
            "sql_db_query_checker : Use this tool to double check if your query is correct before executing it. Always use this tool before executing a query with sql_db_query!\n"
          ]
        }
      ]
    },
    {
      "cell_type": "code",
      "source": [
        "database_information = \"\"\"\"\n",
        "TABLE: historical_data - Contains historical monthly-level sales, pricing, and profit data for each SKU.\n",
        "\n",
        "COLUMN: sku_id - Unique identifier for each product-category combination.\n",
        "\n",
        "COLUMN: product_name - Name of the specific product.\n",
        "\n",
        "COLUMN: category - Category or department the product belongs to.\n",
        "\n",
        "COLUMN: date - Month (or month-start date) representing the sales period.\n",
        "\n",
        "COLUMN: unit_price - Actual selling price per unit after applying discounts.\n",
        "\n",
        "COLUMN: unit_cost - Cost to produce or acquire one unit of the product.\n",
        "\n",
        "COLUMN: discount_pct - Percentage discount applied to the base price.\n",
        "\n",
        "COLUMN: seasonality_factor - Seasonal adjustment factor reflecting demand fluctuations.\n",
        "\n",
        "COLUMN: units_sold - Total quantity sold for the SKU during the given period.\n",
        "\n",
        "COLUMN: revenue - Total revenue generated = unit_price * units_sold.\n",
        "\n",
        "COLUMN: profit - Total profit = (unit_price - unit_cost) * units_sold.\n",
        "\n",
        "#########################################################################################\n",
        "\n",
        "TABLE: current_product_information - Stores reference or metadata information about each SKU used for pricing and forecasting.\n",
        "\n",
        "COLUMN: sku_id - Unique identifier for each product-category combination.\n",
        "\n",
        "COLUMN: base_price - Reference or standard list price of the product.\n",
        "\n",
        "COLUMN: base_demand - Baseline expected demand level for the product.\n",
        "\n",
        "COLUMN: elasticity - Price elasticity coefficient indicating sensitivity of demand to price changes.\n",
        "\n",
        "COLUMN: margin - Target profit margin ratio derived from elasticity or business rules.\n",
        "\n",
        "#########################################################################################\n",
        "TABLE: forecast_data - Contains forecasted monthly unit sales for each SKU based on predictive modeling.\n",
        "\n",
        "COLUMN: sku_id - Unique identifier for each product-category combination.\n",
        "\n",
        "COLUMN: product_name - Name of the specific product.\n",
        "\n",
        "COLUMN: category - Category or department the product belongs to.\n",
        "\n",
        "COLUMN: date - Forecast month or future period.\n",
        "\n",
        "COLUMN: units_sale - Forecasted number of units expected to be sold.\n",
        "\n",
        "#########################################################################################\n",
        "\n",
        "TABLE: inventory_data - Tracks current stock levels for each SKU in the inventory.\n",
        "\n",
        "COLUMN: sku_id - Unique identifier for each product-category combination.\n",
        "\n",
        "COLUMN: product_name - Name of the specific product.\n",
        "\n",
        "COLUMN: category - Category or department the product belongs to.\n",
        "\n",
        "COLUMN: stock - Current quantity of the SKU available in inventory.\n",
        "\n",
        "#########################################################################################\n",
        "\n",
        "TABLE: competitior_information - Captures competitor pricing and promotion details for comparative analysis.\n",
        "\n",
        "COLUMN: sku_id - Unique identifier representing the same or equivalent SKU.\n",
        "\n",
        "COLUMN: product_name - Name of the product for cross-reference with competitors.\n",
        "\n",
        "COLUMN: category - Product category for comparison.\n",
        "\n",
        "COLUMN: unit_price - Competitor’s selling price for the product.\n",
        "\n",
        "COLUMN: promotion - Competitor’s promotion or offer label (e.g., \"BOGO\",\"NONE\" or discount value).\n",
        "\n",
        "COLUMN: discount_pct - Discount percentage applied by the competitor, if available.\n",
        "\"\"\""
      ],
      "metadata": {
        "id": "8BQvfjIeJAQ5"
      },
      "execution_count": 89,
      "outputs": []
    },
    {
      "cell_type": "code",
      "source": [
        "from langchain_core.messages import HumanMessage\n",
        "from langgraph.prebuilt import create_react_agent\n",
        "from langchain.memory import ConversationBufferMemory\n",
        "\n",
        "extra_details_about_data = \"\"\"\n",
        "1. SKU means product_name+category combination, can be represented by sku_id\n",
        "2. product means product_name unless specified otherwise.\n",
        "3. While returning SKU information, mention its details like product_name and category.\n",
        "4. All the price and revenue information is in INR.\n",
        "\"\"\"\n",
        "\n",
        "system_message = \"\"\"\n",
        "You are an agent designed to interact with a SQL database.\n",
        "Given an input question, create a syntactically correct {dialect} query to run,\n",
        "then look at the results of the query and return the answer. Unless the user\n",
        "specifies a specific number of examples they wish to obtain, always limit your\n",
        "query to at most {top_k} results.\n",
        "\n",
        "{extra_details_about_data}\n",
        "\n",
        "You can order the results by a relevant column to return the most interesting\n",
        "examples in the database. Never query for all the columns from a specific table,\n",
        "only ask for the relevant columns given the question.\n",
        "\n",
        "You MUST double check your query before executing it. If you get an error while\n",
        "executing a query, rewrite the query and try again.\n",
        "\n",
        "DO NOT make any DML statements (INSERT, UPDATE, DELETE, DROP etc.) to the\n",
        "database.\n",
        "\n",
        "To start you should ALWAYS look at the tables in the database to see what you\n",
        "can query. Do NOT skip this step.\n",
        "\n",
        "Use this description of tables and columns for reference.\n",
        "{database_information}\n",
        "\n",
        "Then you should query the schema of the most relevant tables.\n",
        "\n",
        "Business context:\n",
        "Product usually means product-category combination.\n",
        "\"\"\".format(\n",
        "    dialect=\"SQLite\",\n",
        "    top_k=5,\n",
        "    database_information=database_information,\n",
        "    extra_details_about_data=extra_details_about_data\n",
        ")\n",
        "\n",
        "data_agent = create_react_agent(\n",
        "    name=\"Retail_Data_Agent\",\n",
        "    model=llm,\n",
        "    tools=tools,\n",
        "    prompt=system_message,\n",
        ")"
      ],
      "metadata": {
        "id": "COUZqtOWZsJb"
      },
      "execution_count": 90,
      "outputs": []
    },
    {
      "cell_type": "code",
      "source": [
        "question = \"Which is highest selling SKU?\"\n",
        "data_agent.invoke({\"messages\": [{\"role\": \"user\", \"content\": question}]})"
      ],
      "metadata": {
        "colab": {
          "base_uri": "https://localhost:8080/"
        },
        "id": "Fuk7nsd_l_id",
        "outputId": "5f511493-8f75-466f-8e27-43a21053800b"
      },
      "execution_count": 91,
      "outputs": [
        {
          "output_type": "execute_result",
          "data": {
            "text/plain": [
              "{'messages': [HumanMessage(content='Which is highest selling SKU?', additional_kwargs={}, response_metadata={}, id='44e1faa0-f0d9-4a2a-8502-4759801ddb4e'),\n",
              "  AIMessage(content='', additional_kwargs={'tool_calls': [{'id': 'call_v4RgLQ6GDHtdEITHzRpB3tV7', 'function': {'arguments': '{}', 'name': 'sql_db_list_tables'}, 'type': 'function'}], 'refusal': None}, response_metadata={'token_usage': {'completion_tokens': 12, 'prompt_tokens': 1137, 'total_tokens': 1149, 'completion_tokens_details': {'accepted_prediction_tokens': 0, 'audio_tokens': 0, 'reasoning_tokens': 0, 'rejected_prediction_tokens': 0}, 'prompt_tokens_details': {'audio_tokens': 0, 'cached_tokens': 0}}, 'model_name': 'gpt-4o-mini-2024-07-18', 'system_fingerprint': 'fp_560af6e559', 'id': 'chatcmpl-CPqYQwDeaxPswXL5wMrypYSnMt1XQ', 'service_tier': 'default', 'finish_reason': 'tool_calls', 'logprobs': None}, name='Retail_Data_Agent', id='run--7b72d227-9e4b-4798-b5d3-263265d49b85-0', tool_calls=[{'name': 'sql_db_list_tables', 'args': {}, 'id': 'call_v4RgLQ6GDHtdEITHzRpB3tV7', 'type': 'tool_call'}], usage_metadata={'input_tokens': 1137, 'output_tokens': 12, 'total_tokens': 1149, 'input_token_details': {'audio': 0, 'cache_read': 0}, 'output_token_details': {'audio': 0, 'reasoning': 0}}),\n",
              "  ToolMessage(content='competitior_information, current_product_information, forecast_data, historical_data, inventory_data', name='sql_db_list_tables', id='e64ea789-cd5e-4220-81dc-a16fbbeacccb', tool_call_id='call_v4RgLQ6GDHtdEITHzRpB3tV7'),\n",
              "  AIMessage(content='', additional_kwargs={'tool_calls': [{'id': 'call_Q4sVtRd3HBmBPdR4k71fFXZG', 'function': {'arguments': '{\"table_names\":\"historical_data\"}', 'name': 'sql_db_schema'}, 'type': 'function'}], 'refusal': None}, response_metadata={'token_usage': {'completion_tokens': 18, 'prompt_tokens': 1181, 'total_tokens': 1199, 'completion_tokens_details': {'accepted_prediction_tokens': 0, 'audio_tokens': 0, 'reasoning_tokens': 0, 'rejected_prediction_tokens': 0}, 'prompt_tokens_details': {'audio_tokens': 0, 'cached_tokens': 1024}}, 'model_name': 'gpt-4o-mini-2024-07-18', 'system_fingerprint': 'fp_560af6e559', 'id': 'chatcmpl-CPqYSMf3ceCcAEoJA18osfP7FzmlV', 'service_tier': 'default', 'finish_reason': 'tool_calls', 'logprobs': None}, name='Retail_Data_Agent', id='run--5db91c1e-e248-489e-98ce-661096abe426-0', tool_calls=[{'name': 'sql_db_schema', 'args': {'table_names': 'historical_data'}, 'id': 'call_Q4sVtRd3HBmBPdR4k71fFXZG', 'type': 'tool_call'}], usage_metadata={'input_tokens': 1181, 'output_tokens': 18, 'total_tokens': 1199, 'input_token_details': {'audio': 0, 'cache_read': 1024}, 'output_token_details': {'audio': 0, 'reasoning': 0}}),\n",
              "  ToolMessage(content='\\nCREATE TABLE historical_data (\\n\\tsku_id INTEGER, \\n\\tproduct_name TEXT, \\n\\tcategory TEXT, \\n\\tdate TIMESTAMP, \\n\\tunit_price REAL, \\n\\tunit_cost REAL, \\n\\tdiscount_pct REAL, \\n\\tseasonality_factor REAL, \\n\\tunits_sold REAL, \\n\\trevenue REAL, \\n\\tprofit REAL\\n)\\n\\n/*\\n3 rows from historical_data table:\\nsku_id\\tproduct_name\\tcategory\\tdate\\tunit_price\\tunit_cost\\tdiscount_pct\\tseasonality_factor\\tunits_sold\\trevenue\\tprofit\\n1\\tt-shirt\\tmen\\t2023-06-01 00:00:00\\t1165.0\\t753.0\\t20.0\\t1.1\\t57.0\\t66405.0\\t23484.0\\n1\\tt-shirt\\tmen\\t2023-07-01 00:00:00\\t1171.0\\t753.0\\t20.0\\t1.1\\t56.0\\t65576.0\\t23408.0\\n1\\tt-shirt\\tmen\\t2023-08-01 00:00:00\\t1456.0\\t753.0\\t0.0\\t1.1\\t38.0\\t55328.0\\t26714.0\\n*/', name='sql_db_schema', id='e76a112b-4393-424a-9d85-bfbe6a931cd0', tool_call_id='call_Q4sVtRd3HBmBPdR4k71fFXZG'),\n",
              "  AIMessage(content='', additional_kwargs={'tool_calls': [{'id': 'call_RAVwuHvzLWa4kcSBuyCHuf9I', 'function': {'arguments': '{\"query\":\"SELECT sku_id, product_name, category, SUM(units_sold) AS total_units_sold FROM historical_data GROUP BY sku_id, product_name, category ORDER BY total_units_sold DESC LIMIT 5;\"}', 'name': 'sql_db_query_checker'}, 'type': 'function'}], 'refusal': None}, response_metadata={'token_usage': {'completion_tokens': 58, 'prompt_tokens': 1464, 'total_tokens': 1522, 'completion_tokens_details': {'accepted_prediction_tokens': 0, 'audio_tokens': 0, 'reasoning_tokens': 0, 'rejected_prediction_tokens': 0}, 'prompt_tokens_details': {'audio_tokens': 0, 'cached_tokens': 1152}}, 'model_name': 'gpt-4o-mini-2024-07-18', 'system_fingerprint': 'fp_560af6e559', 'id': 'chatcmpl-CPqYTWFuFZxadlUuSSFeAyic7Sp79', 'service_tier': 'default', 'finish_reason': 'tool_calls', 'logprobs': None}, name='Retail_Data_Agent', id='run--f27fa24f-c89a-4d95-ad38-681035ac8abf-0', tool_calls=[{'name': 'sql_db_query_checker', 'args': {'query': 'SELECT sku_id, product_name, category, SUM(units_sold) AS total_units_sold FROM historical_data GROUP BY sku_id, product_name, category ORDER BY total_units_sold DESC LIMIT 5;'}, 'id': 'call_RAVwuHvzLWa4kcSBuyCHuf9I', 'type': 'tool_call'}], usage_metadata={'input_tokens': 1464, 'output_tokens': 58, 'total_tokens': 1522, 'input_token_details': {'audio': 0, 'cache_read': 1152}, 'output_token_details': {'audio': 0, 'reasoning': 0}}),\n",
              "  ToolMessage(content='```sql\\nSELECT sku_id, product_name, category, SUM(units_sold) AS total_units_sold FROM historical_data GROUP BY sku_id, product_name, category ORDER BY total_units_sold DESC LIMIT 5;\\n```', name='sql_db_query_checker', id='610fc401-9793-4af3-8697-721af844de31', tool_call_id='call_RAVwuHvzLWa4kcSBuyCHuf9I'),\n",
              "  AIMessage(content='', additional_kwargs={'tool_calls': [{'id': 'call_CMGRWZpRXSkVaA7Czham32Nc', 'function': {'arguments': '{\"query\":\"SELECT sku_id, product_name, category, SUM(units_sold) AS total_units_sold FROM historical_data GROUP BY sku_id, product_name, category ORDER BY total_units_sold DESC LIMIT 5;\"}', 'name': 'sql_db_query'}, 'type': 'function'}], 'refusal': None}, response_metadata={'token_usage': {'completion_tokens': 57, 'prompt_tokens': 1584, 'total_tokens': 1641, 'completion_tokens_details': {'accepted_prediction_tokens': 0, 'audio_tokens': 0, 'reasoning_tokens': 0, 'rejected_prediction_tokens': 0}, 'prompt_tokens_details': {'audio_tokens': 0, 'cached_tokens': 1408}}, 'model_name': 'gpt-4o-mini-2024-07-18', 'system_fingerprint': 'fp_560af6e559', 'id': 'chatcmpl-CPqYXBVEJlwZtPJQ2WJdpzn3buNp7', 'service_tier': 'default', 'finish_reason': 'tool_calls', 'logprobs': None}, name='Retail_Data_Agent', id='run--1efe2562-c09a-4b4c-85ca-fd874fded46f-0', tool_calls=[{'name': 'sql_db_query', 'args': {'query': 'SELECT sku_id, product_name, category, SUM(units_sold) AS total_units_sold FROM historical_data GROUP BY sku_id, product_name, category ORDER BY total_units_sold DESC LIMIT 5;'}, 'id': 'call_CMGRWZpRXSkVaA7Czham32Nc', 'type': 'tool_call'}], usage_metadata={'input_tokens': 1584, 'output_tokens': 57, 'total_tokens': 1641, 'input_token_details': {'audio': 0, 'cache_read': 1408}, 'output_token_details': {'audio': 0, 'reasoning': 0}}),\n",
              "  ToolMessage(content=\"[(1, 't-shirt', 'men', 1119.0), (8, 't-shirt', 'women', 896.0)]\", name='sql_db_query', id='ef5a4c41-2d8e-4318-8a65-db1b90d1520f', tool_call_id='call_CMGRWZpRXSkVaA7Czham32Nc'),\n",
              "  AIMessage(content='The highest selling SKU is:\\n\\n- **SKU ID:** 1\\n- **Product Name:** t-shirt\\n- **Category:** men\\n- **Total Units Sold:** 1119\\n\\nThe second highest is:\\n\\n- **SKU ID:** 8\\n- **Product Name:** t-shirt\\n- **Category:** women\\n- **Total Units Sold:** 896', additional_kwargs={'refusal': None}, response_metadata={'token_usage': {'completion_tokens': 74, 'prompt_tokens': 1686, 'total_tokens': 1760, 'completion_tokens_details': {'accepted_prediction_tokens': 0, 'audio_tokens': 0, 'reasoning_tokens': 0, 'rejected_prediction_tokens': 0}, 'prompt_tokens_details': {'audio_tokens': 0, 'cached_tokens': 1536}}, 'model_name': 'gpt-4o-mini-2024-07-18', 'system_fingerprint': 'fp_560af6e559', 'id': 'chatcmpl-CPqYZoqrm9IxdPWkHvJWISm91l3oE', 'service_tier': 'default', 'finish_reason': 'stop', 'logprobs': None}, name='Retail_Data_Agent', id='run--0ecf0396-5f7d-41f8-b67c-700c4609f482-0', usage_metadata={'input_tokens': 1686, 'output_tokens': 74, 'total_tokens': 1760, 'input_token_details': {'audio': 0, 'cache_read': 1536}, 'output_token_details': {'audio': 0, 'reasoning': 0}})]}"
            ]
          },
          "metadata": {},
          "execution_count": 91
        }
      ]
    },
    {
      "cell_type": "code",
      "source": [],
      "metadata": {
        "id": "xRrLkkZmenlZ"
      },
      "execution_count": 92,
      "outputs": []
    },
    {
      "cell_type": "markdown",
      "source": [
        "## Example with pretty printing"
      ],
      "metadata": {
        "id": "vSoknNDEF1u8"
      }
    },
    {
      "cell_type": "code",
      "source": [
        "question = \"Which is highest selling SKU_ID?\"\n",
        "\n",
        "for step in data_agent.stream(\n",
        "    {\"messages\": [{\"role\": \"user\", \"content\": question}]},\n",
        "    stream_mode=\"values\",\n",
        "):\n",
        "    step[\"messages\"][-1].pretty_print()"
      ],
      "metadata": {
        "colab": {
          "base_uri": "https://localhost:8080/"
        },
        "id": "8iOnt9qjcSNn",
        "outputId": "45c4f496-a015-445d-ed1f-83f38e77bca9"
      },
      "execution_count": 93,
      "outputs": [
        {
          "output_type": "stream",
          "name": "stdout",
          "text": [
            "================================\u001b[1m Human Message \u001b[0m=================================\n",
            "\n",
            "Which is highest selling SKU_ID?\n",
            "==================================\u001b[1m Ai Message \u001b[0m==================================\n",
            "Name: Retail_Data_Agent\n",
            "Tool Calls:\n",
            "  sql_db_list_tables (call_dnY3Mjv4NHrWlmQBSYCFh1ex)\n",
            " Call ID: call_dnY3Mjv4NHrWlmQBSYCFh1ex\n",
            "  Args:\n",
            "=================================\u001b[1m Tool Message \u001b[0m=================================\n",
            "Name: sql_db_list_tables\n",
            "\n",
            "competitior_information, current_product_information, forecast_data, historical_data, inventory_data\n",
            "==================================\u001b[1m Ai Message \u001b[0m==================================\n",
            "Name: Retail_Data_Agent\n",
            "Tool Calls:\n",
            "  sql_db_schema (call_XqAkkawm2pft9vGKrW7EiU9m)\n",
            " Call ID: call_XqAkkawm2pft9vGKrW7EiU9m\n",
            "  Args:\n",
            "    table_names: historical_data\n",
            "  sql_db_schema (call_NVbwMqXBP2uH5DXTeXrs5Lnq)\n",
            " Call ID: call_NVbwMqXBP2uH5DXTeXrs5Lnq\n",
            "  Args:\n",
            "    table_names: current_product_information\n",
            "=================================\u001b[1m Tool Message \u001b[0m=================================\n",
            "Name: sql_db_schema\n",
            "\n",
            "\n",
            "CREATE TABLE current_product_information (\n",
            "\tsku_id INTEGER, \n",
            "\tbase_price REAL, \n",
            "\tbase_demand REAL, \n",
            "\telasticity REAL, \n",
            "\tmargin REAL\n",
            ")\n",
            "\n",
            "/*\n",
            "3 rows from current_product_information table:\n",
            "sku_id\tbase_price\tbase_demand\telasticity\tmargin\n",
            "1\t1460.0\t500.0\t-1.06\t0.94\n",
            "8\t1820.0\t800.0\t-0.93\t1.08\n",
            "*/\n",
            "==================================\u001b[1m Ai Message \u001b[0m==================================\n",
            "Name: Retail_Data_Agent\n",
            "Tool Calls:\n",
            "  sql_db_query_checker (call_NyS9806AgdvDpGqLDsBxDJsa)\n",
            " Call ID: call_NyS9806AgdvDpGqLDsBxDJsa\n",
            "  Args:\n",
            "    query: SELECT sku_id, SUM(units_sold) AS total_units_sold \n",
            "FROM historical_data \n",
            "GROUP BY sku_id \n",
            "ORDER BY total_units_sold DESC \n",
            "LIMIT 1;\n",
            "=================================\u001b[1m Tool Message \u001b[0m=================================\n",
            "Name: sql_db_query_checker\n",
            "\n",
            "```sql\n",
            "SELECT sku_id, SUM(units_sold) AS total_units_sold \n",
            "FROM historical_data \n",
            "GROUP BY sku_id \n",
            "ORDER BY total_units_sold DESC \n",
            "LIMIT 1;\n",
            "```\n",
            "==================================\u001b[1m Ai Message \u001b[0m==================================\n",
            "Name: Retail_Data_Agent\n",
            "Tool Calls:\n",
            "  sql_db_query (call_hO14JeUBj45GaOFX8cytYKU4)\n",
            " Call ID: call_hO14JeUBj45GaOFX8cytYKU4\n",
            "  Args:\n",
            "    query: SELECT sku_id, SUM(units_sold) AS total_units_sold \n",
            "FROM historical_data \n",
            "GROUP BY sku_id \n",
            "ORDER BY total_units_sold DESC \n",
            "LIMIT 1;\n",
            "=================================\u001b[1m Tool Message \u001b[0m=================================\n",
            "Name: sql_db_query\n",
            "\n",
            "[(1, 1119.0)]\n",
            "==================================\u001b[1m Ai Message \u001b[0m==================================\n",
            "Name: Retail_Data_Agent\n",
            "\n",
            "The highest selling SKU_ID is **1**, with a total of **1119** units sold.\n"
          ]
        }
      ]
    },
    {
      "cell_type": "markdown",
      "source": [
        "## Returning final output only\n",
        "\n",
        "## skipping all the intermediate steps"
      ],
      "metadata": {
        "id": "DCSZ0AwAF8jg"
      }
    },
    {
      "cell_type": "code",
      "source": [
        "from IPython.display import display, Markdown"
      ],
      "metadata": {
        "id": "DEWmFpixble4"
      },
      "execution_count": 94,
      "outputs": []
    },
    {
      "cell_type": "code",
      "source": [
        "def get_sql_reponse(question):\n",
        "  for step in data_agent.stream(\n",
        "      {\"messages\": [{\"role\": \"user\", \"content\": question}]},\n",
        "      stream_mode=\"values\",\n",
        "  ):\n",
        "      if step['messages'][-1].response_metadata.get('finish_reason')=='stop':\n",
        "        try:\n",
        "          return display(Markdown(step['messages'][-1].content))\n",
        "        except:\n",
        "          return display(Markdown(\"I don't know\"))\n",
        "\n",
        "get_sql_reponse(\"Which is most profitable SKU_ID?\")"
      ],
      "metadata": {
        "colab": {
          "base_uri": "https://localhost:8080/",
          "height": 46
        },
        "id": "XYpIrBl84VXt",
        "outputId": "75c549b8-546a-43ac-b3f8-daf853cf6bb0"
      },
      "execution_count": 95,
      "outputs": [
        {
          "output_type": "display_data",
          "data": {
            "text/plain": [
              "<IPython.core.display.Markdown object>"
            ],
            "text/markdown": "The most profitable SKU_ID is **8**, with a total profit of **INR 693,898.00**."
          },
          "metadata": {}
        }
      ]
    },
    {
      "cell_type": "code",
      "source": [
        "get_sql_reponse(\"Which is most profitable SKU?\")"
      ],
      "metadata": {
        "colab": {
          "base_uri": "https://localhost:8080/",
          "height": 103
        },
        "id": "4k_UlQ78LV_i",
        "outputId": "775e30f7-c888-4f44-ac01-16fd7e4c19a2"
      },
      "execution_count": 96,
      "outputs": [
        {
          "output_type": "display_data",
          "data": {
            "text/plain": [
              "<IPython.core.display.Markdown object>"
            ],
            "text/markdown": "The most profitable SKUs are:\n\n1. **SKU ID:** 8, **Product Name:** t-shirt, **Category:** women, **Total Profit:** ₹693,898.0\n2. **SKU ID:** 1, **Product Name:** t-shirt, **Category:** men, **Total Profit:** ₹656,949.0"
          },
          "metadata": {}
        }
      ]
    },
    {
      "cell_type": "code",
      "source": [
        "get_sql_reponse(\"Which is most profitable SKU of 2025?\")"
      ],
      "metadata": {
        "colab": {
          "base_uri": "https://localhost:8080/",
          "height": 46
        },
        "id": "CgzjumWoKyNp",
        "outputId": "963b0dd1-696e-463f-a7c0-37e55c0bf8ef"
      },
      "execution_count": 45,
      "outputs": [
        {
          "output_type": "display_data",
          "data": {
            "text/plain": [
              "<IPython.core.display.Markdown object>"
            ],
            "text/markdown": "The most profitable SKU of 2025 is a women's t-shirt with a profit of ₹28,590."
          },
          "metadata": {}
        }
      ]
    },
    {
      "cell_type": "code",
      "source": [
        "get_sql_reponse(\"What is most elastic SKU?\")"
      ],
      "metadata": {
        "id": "qQrVIIksfszW",
        "colab": {
          "base_uri": "https://localhost:8080/",
          "height": 145
        },
        "outputId": "978b24f5-49a8-438a-f5c3-9dee76e78316"
      },
      "execution_count": 46,
      "outputs": [
        {
          "output_type": "display_data",
          "data": {
            "text/plain": [
              "<IPython.core.display.Markdown object>"
            ],
            "text/markdown": "The most elastic SKU is:\n\n- **SKU ID:** 1\n- **Product Name:** t-shirt\n- **Category:** men\n- **Elasticity:** -1.06\n\nThis SKU has a significant price sensitivity, indicating that demand is likely to change considerably with price adjustments."
          },
          "metadata": {}
        }
      ]
    },
    {
      "cell_type": "code",
      "source": [
        "get_sql_reponse(\"compare our SKU's prices with competitor's prices?\")"
      ],
      "metadata": {
        "colab": {
          "base_uri": "https://localhost:8080/",
          "height": 192
        },
        "id": "yK0BhfLxbtFe",
        "outputId": "b6a9ac98-da7f-4073-f63f-e538e9f0f7fa"
      },
      "execution_count": 47,
      "outputs": [
        {
          "output_type": "display_data",
          "data": {
            "text/plain": [
              "<IPython.core.display.Markdown object>"
            ],
            "text/markdown": "Here are the price comparisons for our SKU with competitor’s prices:\n\n- **SKU ID**: 1\n  - **Product Name**: T-Shirt\n  - **Category**: Men\n  - **Our Base Price**: ₹1460.0\n  - **Competitor's Price**: ₹864.5\n\nIt appears that the same product is showing multiple entries with the same information, indicating a consistent competitor pricing. \n\nIf you need more detailed insights or additional products, let me know!"
          },
          "metadata": {}
        }
      ]
    },
    {
      "cell_type": "code",
      "source": [],
      "metadata": {
        "id": "P7A9N_U9cA3Y"
      },
      "execution_count": null,
      "outputs": []
    },
    {
      "cell_type": "markdown",
      "source": [
        "## Connect data agent with Main Supervisor Agent"
      ],
      "metadata": {
        "id": "fuBwA6yzpYyt"
      }
    },
    {
      "cell_type": "code",
      "source": [
        "!pip install -q langgraph-supervisor"
      ],
      "metadata": {
        "id": "BTjYPMZ9UMvo"
      },
      "execution_count": 35,
      "outputs": []
    },
    {
      "cell_type": "code",
      "source": [
        "from langgraph_supervisor import create_supervisor"
      ],
      "metadata": {
        "id": "T5hvjoQaUMyN"
      },
      "execution_count": 97,
      "outputs": []
    },
    {
      "cell_type": "code",
      "source": [
        "from langgraph_supervisor import create_supervisor\n",
        "from langchain.chat_models import init_chat_model\n",
        "\n",
        "supervisor = create_supervisor(\n",
        "    name=\"Main_Retail_Agent\",\n",
        "    model=llm,\n",
        "    agents=[data_agent],\n",
        "    prompt=(\n",
        "        \"You are a supervisor agent responsible to build pricing strategy for a retail company:\\n\"\n",
        "        \"- a data agent. Assign any data related question to this agent and get answers\\n\"\n",
        "        \"Assign work to agents and build strategy using the data it returns.\\n\"\n",
        "        \"All the price data is in INR.\"\n",
        "    ),\n",
        "    add_handoff_back_messages=True,\n",
        "    output_mode=\"full_history\",\n",
        ").compile()\n"
      ],
      "metadata": {
        "id": "HwbhlINSUXo5"
      },
      "execution_count": 98,
      "outputs": []
    },
    {
      "cell_type": "markdown",
      "source": [
        "### some utility function(ignore)"
      ],
      "metadata": {
        "id": "LVCtz5ZJpiiS"
      }
    },
    {
      "cell_type": "code",
      "source": [
        "from langchain_core.messages import convert_to_messages\n",
        "\n",
        "def pretty_print_message(message, indent=False):\n",
        "    pretty_message = message.pretty_repr(html=True)\n",
        "    if not indent:\n",
        "        print(pretty_message)\n",
        "        return\n",
        "\n",
        "    indented = \"\\n\".join(\"\\t\" + c for c in pretty_message.split(\"\\n\"))\n",
        "    print(indented)\n",
        "\n",
        "\n",
        "def pretty_print_messages(update, last_message=False):\n",
        "    is_subgraph = False\n",
        "    if isinstance(update, tuple):\n",
        "        ns, update = update\n",
        "        # skip parent graph updates in the printouts\n",
        "        if len(ns) == 0:\n",
        "            return\n",
        "\n",
        "        graph_id = ns[-1].split(\":\")[0]\n",
        "        print(f\"Update from subgraph {graph_id}:\")\n",
        "        print(\"\\n\")\n",
        "        is_subgraph = True\n",
        "\n",
        "    for node_name, node_update in update.items():\n",
        "        update_label = f\"Update from node {node_name}:\"\n",
        "        if is_subgraph:\n",
        "            update_label = \"\\t\" + update_label\n",
        "\n",
        "        print(update_label)\n",
        "        print(\"\\n\")\n",
        "\n",
        "        messages = convert_to_messages(node_update[\"messages\"])\n",
        "        if last_message:\n",
        "            messages = messages[-1:]\n",
        "\n",
        "        for m in messages:\n",
        "            pretty_print_message(m, indent=is_subgraph)\n",
        "        print(\"\\n\")"
      ],
      "metadata": {
        "id": "ev72A6mKX9gx"
      },
      "execution_count": 99,
      "outputs": []
    },
    {
      "cell_type": "code",
      "source": [
        "def chat_with_supervisor(input):\n",
        "  for chunk in supervisor.stream(\n",
        "    {\n",
        "        \"messages\": [\n",
        "            {\n",
        "                \"role\": \"user\",\n",
        "                \"content\": input,\n",
        "            }\n",
        "        ]\n",
        "    },\n",
        "  ):\n",
        "    pretty_print_messages(chunk, last_message=True)\n",
        "  final_message_history = chunk[\"supervisor\"][\"messages\"]\n",
        "\n",
        "\n",
        "chat_with_supervisor(\"Which is our highest revenue generating item?\")"
      ],
      "metadata": {
        "colab": {
          "base_uri": "https://localhost:8080/"
        },
        "id": "bb6iale5Vw-y",
        "outputId": "82d18406-8073-45ed-c04b-e804d9626ab6"
      },
      "execution_count": 100,
      "outputs": [
        {
          "output_type": "stream",
          "name": "stdout",
          "text": [
            "Update from node supervisor:\n",
            "\n",
            "\n",
            "=================================\u001b[1m Tool Message \u001b[0m=================================\n",
            "Name: transfer_to_retail_data_agent\n",
            "\n",
            "Successfully transferred to Retail_Data_Agent\n",
            "\n",
            "\n",
            "Update from node Retail_Data_Agent:\n",
            "\n",
            "\n",
            "=================================\u001b[1m Tool Message \u001b[0m=================================\n",
            "Name: transfer_back_to_supervisor\n",
            "\n",
            "Successfully transferred back to supervisor\n",
            "\n",
            "\n",
            "Update from node supervisor:\n",
            "\n",
            "\n",
            "==================================\u001b[1m Ai Message \u001b[0m==================================\n",
            "Name: supervisor\n",
            "\n",
            "We have identified that the highest revenue generating item is the **t-shirt**, which has generated a total revenue of **INR 2,977,454**. \n",
            "\n",
            "Next, we can consider pricing strategies for this item. Would you like to analyze any specific metrics for this item, such as cost, profit margins or historical sales trends?\n",
            "\n",
            "\n"
          ]
        }
      ]
    },
    {
      "cell_type": "code",
      "source": [
        "chat_with_supervisor(\"How is its sale in next 3 months?\")"
      ],
      "metadata": {
        "colab": {
          "base_uri": "https://localhost:8080/"
        },
        "id": "xHNK4LybWTXJ",
        "outputId": "53290387-0f55-4b8f-d513-5477cbfd4d3a"
      },
      "execution_count": 101,
      "outputs": [
        {
          "output_type": "stream",
          "name": "stdout",
          "text": [
            "Update from node supervisor:\n",
            "\n",
            "\n",
            "=================================\u001b[1m Tool Message \u001b[0m=================================\n",
            "Name: transfer_to_retail_data_agent\n",
            "\n",
            "Successfully transferred to Retail_Data_Agent\n",
            "\n",
            "\n",
            "Update from node Retail_Data_Agent:\n",
            "\n",
            "\n",
            "=================================\u001b[1m Tool Message \u001b[0m=================================\n",
            "Name: transfer_back_to_supervisor\n",
            "\n",
            "Successfully transferred back to supervisor\n",
            "\n",
            "\n",
            "Update from node supervisor:\n",
            "\n",
            "\n",
            "==================================\u001b[1m Ai Message \u001b[0m==================================\n",
            "Name: supervisor\n",
            "\n",
            "The projected sales for the next three months are as follows:\n",
            "\n",
            "- **September 2025**: 41 units\n",
            "- **October 2025**: 41 units\n",
            "- **November 2025**: 41 units\n",
            "\n",
            "Sales are expected to remain consistent across these months. \n",
            "\n",
            "Do you need any further analysis or adjustments to the pricing strategy based on these sales forecasts?\n",
            "\n",
            "\n"
          ]
        }
      ]
    },
    {
      "cell_type": "code",
      "source": [],
      "metadata": {
        "id": "d6YC_R1KqQ0Z"
      },
      "execution_count": 107,
      "outputs": []
    },
    {
      "cell_type": "code",
      "source": [],
      "metadata": {
        "id": "RujdMxMHqahO"
      },
      "execution_count": 107,
      "outputs": []
    },
    {
      "cell_type": "markdown",
      "source": [],
      "metadata": {
        "id": "0u1wvTeLiIU_"
      }
    }
  ]
}