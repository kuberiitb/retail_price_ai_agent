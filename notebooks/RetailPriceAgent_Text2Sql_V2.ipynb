{
  "nbformat": 4,
  "nbformat_minor": 0,
  "metadata": {
    "colab": {
      "provenance": [],
      "include_colab_link": true
    },
    "kernelspec": {
      "name": "python3",
      "display_name": "Python 3"
    },
    "language_info": {
      "name": "python"
    }
  },
  "cells": [
    {
      "cell_type": "markdown",
      "metadata": {
        "id": "view-in-github",
        "colab_type": "text"
      },
      "source": [
        "<a href=\"https://colab.research.google.com/github/kuberiitb/retail_price_ai_agent/blob/main/notebooks/RetailPriceAgent_Text2Sql_V2.ipynb\" target=\"_parent\"><img src=\"https://colab.research.google.com/assets/colab-badge.svg\" alt=\"Open In Colab\"/></a>"
      ]
    },
    {
      "cell_type": "markdown",
      "source": [
        "Agent created using code from [LangGraph Tutorial](https://python.langchain.com/docs/tutorials/sql_qa/)"
      ],
      "metadata": {
        "id": "v-cqjNmtPa-c"
      }
    },
    {
      "cell_type": "code",
      "execution_count": null,
      "metadata": {
        "id": "EFRwAe-hOkeC",
        "colab": {
          "base_uri": "https://localhost:8080/"
        },
        "outputId": "4b67447d-3491-40df-d5d1-bffc8771de35"
      },
      "outputs": [
        {
          "output_type": "stream",
          "name": "stdout",
          "text": [
            "\u001b[2K     \u001b[90m━━━━━━━━━━━━━━━━━━━━━━━━━━━━━━━━━━━━━━━━\u001b[0m \u001b[32m43.7/43.7 kB\u001b[0m \u001b[31m1.4 MB/s\u001b[0m eta \u001b[36m0:00:00\u001b[0m\n",
            "\u001b[2K   \u001b[90m━━━━━━━━━━━━━━━━━━━━━━━━━━━━━━━━━━━━━━━━\u001b[0m \u001b[32m2.5/2.5 MB\u001b[0m \u001b[31m22.5 MB/s\u001b[0m eta \u001b[36m0:00:00\u001b[0m\n",
            "\u001b[2K   \u001b[90m━━━━━━━━━━━━━━━━━━━━━━━━━━━━━━━━━━━━━━━━\u001b[0m \u001b[32m75.6/75.6 kB\u001b[0m \u001b[31m4.7 MB/s\u001b[0m eta \u001b[36m0:00:00\u001b[0m\n",
            "\u001b[2K   \u001b[90m━━━━━━━━━━━━━━━━━━━━━━━━━━━━━━━━━━━━━━━━\u001b[0m \u001b[32m154.8/154.8 kB\u001b[0m \u001b[31m6.5 MB/s\u001b[0m eta \u001b[36m0:00:00\u001b[0m\n",
            "\u001b[2K   \u001b[90m━━━━━━━━━━━━━━━━━━━━━━━━━━━━━━━━━━━━━━━━\u001b[0m \u001b[32m43.9/43.9 kB\u001b[0m \u001b[31m1.4 MB/s\u001b[0m eta \u001b[36m0:00:00\u001b[0m\n",
            "\u001b[2K   \u001b[90m━━━━━━━━━━━━━━━━━━━━━━━━━━━━━━━━━━━━━━━━\u001b[0m \u001b[32m56.8/56.8 kB\u001b[0m \u001b[31m1.7 MB/s\u001b[0m eta \u001b[36m0:00:00\u001b[0m\n",
            "\u001b[2K   \u001b[90m━━━━━━━━━━━━━━━━━━━━━━━━━━━━━━━━━━━━━━━━\u001b[0m \u001b[32m64.7/64.7 kB\u001b[0m \u001b[31m2.6 MB/s\u001b[0m eta \u001b[36m0:00:00\u001b[0m\n",
            "\u001b[2K   \u001b[90m━━━━━━━━━━━━━━━━━━━━━━━━━━━━━━━━━━━━━━━━\u001b[0m \u001b[32m50.9/50.9 kB\u001b[0m \u001b[31m1.6 MB/s\u001b[0m eta \u001b[36m0:00:00\u001b[0m\n",
            "\u001b[2K   \u001b[90m━━━━━━━━━━━━━━━━━━━━━━━━━━━━━━━━━━━━━━━━\u001b[0m \u001b[32m216.7/216.7 kB\u001b[0m \u001b[31m7.8 MB/s\u001b[0m eta \u001b[36m0:00:00\u001b[0m\n",
            "\u001b[?25h\u001b[31mERROR: pip's dependency resolver does not currently take into account all the packages that are installed. This behaviour is the source of the following dependency conflicts.\n",
            "google-colab 1.0.0 requires requests==2.32.4, but you have requests 2.32.5 which is incompatible.\u001b[0m\u001b[31m\n",
            "\u001b[0m"
          ]
        }
      ],
      "source": [
        "!pip install langchain langchain_community langchain-openai langgraph --quiet"
      ]
    },
    {
      "cell_type": "markdown",
      "source": [
        "# Setting up SQL data"
      ],
      "metadata": {
        "id": "NcBT-c-aGVdH"
      }
    },
    {
      "cell_type": "code",
      "source": [
        "from langchain_community.utilities import SQLDatabase\n",
        "\n",
        "db = SQLDatabase.from_uri(\"sqlite:///my_database.db\")\n",
        "print(db.get_usable_table_names())"
      ],
      "metadata": {
        "colab": {
          "base_uri": "https://localhost:8080/"
        },
        "id": "xSuvuhFfQlQw",
        "outputId": "025f464e-ce79-4d74-d4de-0fdf8b95d496"
      },
      "execution_count": null,
      "outputs": [
        {
          "output_type": "stream",
          "name": "stdout",
          "text": [
            "['competitior_price', 'forecast_data', 'historical_data', 'inventory_data']\n"
          ]
        }
      ]
    },
    {
      "cell_type": "code",
      "source": [
        "print(db.get_table_info([\"historical_data\"]))"
      ],
      "metadata": {
        "colab": {
          "base_uri": "https://localhost:8080/"
        },
        "id": "BEzGs_FIqjO_",
        "outputId": "05d26b93-789a-4f0f-bd67-e13f9b7ebc12"
      },
      "execution_count": null,
      "outputs": [
        {
          "output_type": "stream",
          "name": "stdout",
          "text": [
            "\n",
            "CREATE TABLE historical_data (\n",
            "\tid INTEGER, \n",
            "\tproduct TEXT, \n",
            "\tcategory TEXT, \n",
            "\tdate TIMESTAMP, \n",
            "\tprice REAL, \n",
            "\tcost REAL, \n",
            "\tpromotion REAL, \n",
            "\tseasonality REAL, \n",
            "\tsales REAL, \n",
            "\tsales_value REAL, \n",
            "\tprofit REAL\n",
            ")\n",
            "\n",
            "/*\n",
            "3 rows from historical_data table:\n",
            "id\tproduct\tcategory\tdate\tprice\tcost\tpromotion\tseasonality\tsales\tsales_value\tprofit\n",
            "1\tt-shirt\tmen\t2023-06-01 00:00:00\t1157.0\t703.0\t20.0\t1.1\t57.0\t65949.0\t25878.0\n",
            "1\tt-shirt\tmen\t2023-07-01 00:00:00\t1163.0\t703.0\t20.0\t1.1\t57.0\t66291.0\t26220.0\n",
            "1\tt-shirt\tmen\t2023-08-01 00:00:00\t1446.0\t703.0\t0.0\t1.1\t38.0\t54948.0\t28234.0\n",
            "*/\n"
          ]
        }
      ]
    },
    {
      "cell_type": "code",
      "source": [
        "db.run(\"SELECT * FROM historical_data LIMIT 10;\")"
      ],
      "metadata": {
        "colab": {
          "base_uri": "https://localhost:8080/",
          "height": 174
        },
        "id": "xsrTrnIep2OM",
        "outputId": "d6cdc078-9536-431c-f937-3e064a9bf6fa"
      },
      "execution_count": null,
      "outputs": [
        {
          "output_type": "execute_result",
          "data": {
            "text/plain": [
              "\"[(1, 't-shirt', 'men', '2023-06-01 00:00:00', 1157.0, 703.0, 20.0, 1.1, 57.0, 65949.0, 25878.0), (1, 't-shirt', 'men', '2023-07-01 00:00:00', 1163.0, 703.0, 20.0, 1.1, 57.0, 66291.0, 26220.0), (1, 't-shirt', 'men', '2023-08-01 00:00:00', 1446.0, 703.0, 0.0, 1.1, 38.0, 54948.0, 28234.0), (1, 't-shirt', 'men', '2023-09-01 00:00:00', 1450.0, 703.0, 0.0, 0.9, 31.0, 44950.0, 23157.0), (1, 't-shirt', 'men', '2023-10-01 00:00:00', 1443.0, 703.0, 0.0, 0.9, 31.0, 44733.0, 22940.0), (1, 't-shirt', 'men', '2023-11-01 00:00:00', 1442.0, 703.0, 0.0, 1.3, 45.0, 64890.0, 33255.0), (1, 't-shirt', 'men', '2023-12-01 00:00:00', 1153.0, 703.0, 20.0, 1.3, 68.0, 78404.0, 30600.0), (1, 't-shirt', 'men', '2024-01-01 00:00:00', 1445.0, 703.0, 0.0, 0.9, 31.0, 44795.0, 23002.0), (1, 't-shirt', 'men', '2024-02-01 00:00:00', 1440.0, 703.0, 0.0, 0.9, 31.0, 44640.0, 22847.0), (1, 't-shirt', 'men', '2024-03-01 00:00:00', 1451.0, 703.0, 0.0, 0.9, 31.0, 44981.0, 23188.0)]\""
            ],
            "application/vnd.google.colaboratory.intrinsic+json": {
              "type": "string"
            }
          },
          "metadata": {},
          "execution_count": 4
        }
      ]
    },
    {
      "cell_type": "code",
      "source": [
        "db.run(\"SELECT * FROM competitior_price LIMIT 10;\")"
      ],
      "metadata": {
        "colab": {
          "base_uri": "https://localhost:8080/",
          "height": 35
        },
        "id": "QcFVCqHSp2Qq",
        "outputId": "914bc652-3a86-4227-8154-9947831bba34"
      },
      "execution_count": null,
      "outputs": [
        {
          "output_type": "execute_result",
          "data": {
            "text/plain": [
              "\"[(1, 't-shirt', 'men', 817.0, 'BOGO', 0.5), (8, 't-shirt', 'women', 968.0, '0.2', 0.8)]\""
            ],
            "application/vnd.google.colaboratory.intrinsic+json": {
              "type": "string"
            }
          },
          "metadata": {},
          "execution_count": 5
        }
      ]
    },
    {
      "cell_type": "code",
      "source": [
        "db.run(\"SELECT * FROM forecast_data LIMIT 10;\")"
      ],
      "metadata": {
        "colab": {
          "base_uri": "https://localhost:8080/",
          "height": 105
        },
        "id": "_POScAN7p2Sx",
        "outputId": "9069cedf-6ba6-42d6-895e-2ed97a80c453"
      },
      "execution_count": null,
      "outputs": [
        {
          "output_type": "execute_result",
          "data": {
            "text/plain": [
              "\"[(1, 't-shirt', 'men', '2025-09-01 00:00:00', 42.0), (1, 't-shirt', 'men', '2025-10-01 00:00:00', 42.0), (1, 't-shirt', 'men', '2025-11-01 00:00:00', 42.0), (1, 't-shirt', 'men', '2025-12-01 00:00:00', 42.0), (1, 't-shirt', 'men', '2026-01-01 00:00:00', 42.0), (1, 't-shirt', 'men', '2026-02-01 00:00:00', 42.0), (8, 't-shirt', 'women', '2025-09-01 00:00:00', 37.0), (8, 't-shirt', 'women', '2025-10-01 00:00:00', 37.0), (8, 't-shirt', 'women', '2025-11-01 00:00:00', 37.0), (8, 't-shirt', 'women', '2025-12-01 00:00:00', 37.0)]\""
            ],
            "application/vnd.google.colaboratory.intrinsic+json": {
              "type": "string"
            }
          },
          "metadata": {},
          "execution_count": 6
        }
      ]
    },
    {
      "cell_type": "code",
      "source": [
        "db.run(\"SELECT * FROM inventory_data LIMIT 10;\")"
      ],
      "metadata": {
        "colab": {
          "base_uri": "https://localhost:8080/",
          "height": 35
        },
        "id": "89tN7Vnap9mD",
        "outputId": "1220cd22-f097-4691-84ee-56c2cc1f874b"
      },
      "execution_count": null,
      "outputs": [
        {
          "output_type": "execute_result",
          "data": {
            "text/plain": [
              "\"[(1, 't-shirt', 'men', 168.0), (8, 't-shirt', 'women', 74.0)]\""
            ],
            "application/vnd.google.colaboratory.intrinsic+json": {
              "type": "string"
            }
          },
          "metadata": {},
          "execution_count": 7
        }
      ]
    },
    {
      "cell_type": "code",
      "source": [
        "from sqlalchemy import create_engine, inspect\n",
        "\n",
        "engine = create_engine(\"sqlite:///my_database.db\")\n",
        "inspector = inspect(engine)\n",
        "\n",
        "columns = inspector.get_columns(\"inventory_data\")\n",
        "for col in columns:\n",
        "    print(col[\"name\"], col[\"type\"])"
      ],
      "metadata": {
        "id": "JRB0mr_UqMN_"
      },
      "execution_count": null,
      "outputs": []
    },
    {
      "cell_type": "code",
      "source": [
        "# Langgraph State\n",
        "from typing_extensions import TypedDict\n",
        "\n",
        "class State(TypedDict):\n",
        "    question: str\n",
        "    query: str\n",
        "    result: str\n",
        "    answer: str"
      ],
      "metadata": {
        "id": "DzwZc7-BROow"
      },
      "execution_count": null,
      "outputs": []
    },
    {
      "cell_type": "markdown",
      "source": [
        "# Setup LLM"
      ],
      "metadata": {
        "id": "R4TGknQhOeZi"
      }
    },
    {
      "cell_type": "code",
      "source": [
        "import os\n",
        "from dotenv import load_dotenv\n",
        "load_dotenv(\".env\")"
      ],
      "metadata": {
        "colab": {
          "base_uri": "https://localhost:8080/"
        },
        "id": "DD09jynQSuDd",
        "outputId": "55453812-78d3-4da4-a692-dd0f2760c758"
      },
      "execution_count": null,
      "outputs": [
        {
          "output_type": "execute_result",
          "data": {
            "text/plain": [
              "True"
            ]
          },
          "metadata": {},
          "execution_count": 11
        }
      ]
    },
    {
      "cell_type": "code",
      "source": [
        "# from langchain.chat_models import ChatOpenAI\n",
        "\n",
        "if not os.environ[\"OPENAI_API_KEY\"]:\n",
        "    os.environ[\"OPENAI_API_KEY\"] = os.getenv(\"OPENAI_API_KEY\")\n",
        "\n",
        "# llm = ChatOpenAI(model=\"gpt-4o-mini\", temperature=0.1)\n",
        "\n",
        "from langchain.chat_models import init_chat_model\n",
        "\n",
        "llm = init_chat_model(\"gpt-4o-mini\", model_provider=\"openai\")"
      ],
      "metadata": {
        "id": "Rimz3dC8RkFe"
      },
      "execution_count": null,
      "outputs": []
    },
    {
      "cell_type": "code",
      "source": [
        "llm.invoke(\"Hi\").content"
      ],
      "metadata": {
        "colab": {
          "base_uri": "https://localhost:8080/",
          "height": 35
        },
        "id": "EvHMUwglSiRr",
        "outputId": "b1f805a7-5fa6-456f-87e7-256068a391a7"
      },
      "execution_count": null,
      "outputs": [
        {
          "output_type": "execute_result",
          "data": {
            "text/plain": [
              "'Hello! How can I assist you today?'"
            ],
            "application/vnd.google.colaboratory.intrinsic+json": {
              "type": "string"
            }
          },
          "metadata": {},
          "execution_count": 15
        }
      ]
    },
    {
      "cell_type": "markdown",
      "source": [
        "# Using inbuilt Langgraph ReAct agent"
      ],
      "metadata": {
        "id": "P8-zZ3ayeYR4"
      }
    },
    {
      "cell_type": "code",
      "source": [
        "from langchain_community.agent_toolkits import SQLDatabaseToolkit\n",
        "\n",
        "toolkit = SQLDatabaseToolkit(db=db, llm=llm)\n",
        "\n",
        "tools = toolkit.get_tools()\n",
        "\n",
        "for t in tools:\n",
        "  print(t.name, \":\", t.description)"
      ],
      "metadata": {
        "colab": {
          "base_uri": "https://localhost:8080/"
        },
        "id": "LRtg8cLfd_tO",
        "outputId": "217db5b8-e771-4789-db05-4097df7486e4"
      },
      "execution_count": null,
      "outputs": [
        {
          "output_type": "stream",
          "name": "stdout",
          "text": [
            "sql_db_query : Input to this tool is a detailed and correct SQL query, output is a result from the database. If the query is not correct, an error message will be returned. If an error is returned, rewrite the query, check the query, and try again. If you encounter an issue with Unknown column 'xxxx' in 'field list', use sql_db_schema to query the correct table fields.\n",
            "sql_db_schema : Input to this tool is a comma-separated list of tables, output is the schema and sample rows for those tables. Be sure that the tables actually exist by calling sql_db_list_tables first! Example Input: table1, table2, table3\n",
            "sql_db_list_tables : Input is an empty string, output is a comma-separated list of tables in the database.\n",
            "sql_db_query_checker : Use this tool to double check if your query is correct before executing it. Always use this tool before executing a query with sql_db_query!\n"
          ]
        }
      ]
    },
    {
      "cell_type": "code",
      "source": [
        "from langchain_core.messages import HumanMessage\n",
        "from langgraph.prebuilt import create_react_agent\n",
        "\n",
        "system_message = \"\"\"\n",
        "You are an agent designed to interact with a SQL database.\n",
        "Given an input question, create a syntactically correct {dialect} query to run,\n",
        "then look at the results of the query and return the answer. Unless the user\n",
        "specifies a specific number of examples they wish to obtain, always limit your\n",
        "query to at most {top_k} results.\n",
        "\n",
        "You can order the results by a relevant column to return the most interesting\n",
        "examples in the database. Never query for all the columns from a specific table,\n",
        "only ask for the relevant columns given the question.\n",
        "\n",
        "You MUST double check your query before executing it. If you get an error while\n",
        "executing a query, rewrite the query and try again.\n",
        "\n",
        "DO NOT make any DML statements (INSERT, UPDATE, DELETE, DROP etc.) to the\n",
        "database.\n",
        "\n",
        "To start you should ALWAYS look at the tables in the database to see what you\n",
        "can query. Do NOT skip this step.\n",
        "\n",
        "Then you should query the schema of the most relevant tables.\n",
        "\n",
        "Business context:\n",
        "Product usually means product-category combination.\n",
        "\"\"\".format(\n",
        "    dialect=\"SQLite\",\n",
        "    top_k=5,\n",
        ")\n",
        "\n",
        "sql_agent_executor = create_react_agent(llm, tools, prompt=system_message)"
      ],
      "metadata": {
        "id": "COUZqtOWZsJb"
      },
      "execution_count": null,
      "outputs": []
    },
    {
      "cell_type": "markdown",
      "source": [
        "## Example with pretty printing"
      ],
      "metadata": {
        "id": "vSoknNDEF1u8"
      }
    },
    {
      "cell_type": "code",
      "source": [
        "question = \"Which is highest selling Which is most profitable month?\"\n",
        "\n",
        "for step in sql_agent_executor.stream(\n",
        "    {\"messages\": [{\"role\": \"user\", \"content\": question}]},\n",
        "    stream_mode=\"values\",\n",
        "):\n",
        "    step[\"messages\"][-1].pretty_print()"
      ],
      "metadata": {
        "colab": {
          "base_uri": "https://localhost:8080/"
        },
        "id": "8iOnt9qjcSNn",
        "outputId": "fc7765ae-4de9-4fd0-caa3-d24f5f0c2681"
      },
      "execution_count": null,
      "outputs": [
        {
          "output_type": "stream",
          "name": "stdout",
          "text": [
            "================================\u001b[1m Human Message \u001b[0m=================================\n",
            "\n",
            "Which is highest selling Which is most profitable month?\n",
            "==================================\u001b[1m Ai Message \u001b[0m==================================\n",
            "Tool Calls:\n",
            "  sql_db_list_tables (call_74vZ33Duk1Nj4IsyPS47Fu2A)\n",
            " Call ID: call_74vZ33Duk1Nj4IsyPS47Fu2A\n",
            "  Args:\n",
            "=================================\u001b[1m Tool Message \u001b[0m=================================\n",
            "Name: sql_db_list_tables\n",
            "\n",
            "competitior_price, forecast_data, historical_data, inventory_data\n",
            "==================================\u001b[1m Ai Message \u001b[0m==================================\n",
            "Tool Calls:\n",
            "  sql_db_schema (call_9jUmA4ba4mS8ursUZwwMIfgK)\n",
            " Call ID: call_9jUmA4ba4mS8ursUZwwMIfgK\n",
            "  Args:\n",
            "    table_names: historical_data\n",
            "  sql_db_schema (call_3Dygzp7g1usrP6yR1JZDPbsb)\n",
            " Call ID: call_3Dygzp7g1usrP6yR1JZDPbsb\n",
            "  Args:\n",
            "    table_names: forecast_data\n",
            "=================================\u001b[1m Tool Message \u001b[0m=================================\n",
            "Name: sql_db_schema\n",
            "\n",
            "\n",
            "CREATE TABLE forecast_data (\n",
            "\tid INTEGER, \n",
            "\tproduct TEXT, \n",
            "\tcategory TEXT, \n",
            "\tdate TIMESTAMP, \n",
            "\tsales REAL\n",
            ")\n",
            "\n",
            "/*\n",
            "3 rows from forecast_data table:\n",
            "id\tproduct\tcategory\tdate\tsales\n",
            "1\tt-shirt\tmen\t2025-09-01 00:00:00\t42.0\n",
            "1\tt-shirt\tmen\t2025-10-01 00:00:00\t42.0\n",
            "1\tt-shirt\tmen\t2025-11-01 00:00:00\t42.0\n",
            "*/\n",
            "==================================\u001b[1m Ai Message \u001b[0m==================================\n",
            "Tool Calls:\n",
            "  sql_db_query_checker (call_eEvj22wTEUOGYxXltHhkaFCT)\n",
            " Call ID: call_eEvj22wTEUOGYxXltHhkaFCT\n",
            "  Args:\n",
            "    query: SELECT strftime('%Y-%m', date) AS month, SUM(sales) AS total_sales, SUM(profit) AS total_profit FROM historical_data GROUP BY month ORDER BY total_sales DESC LIMIT 1;\n",
            "  sql_db_query_checker (call_vJ4glMfL8ompCT8z07h2NUTF)\n",
            " Call ID: call_vJ4glMfL8ompCT8z07h2NUTF\n",
            "  Args:\n",
            "    query: SELECT strftime('%Y-%m', date) AS month, SUM(profit) AS total_profit FROM historical_data GROUP BY month ORDER BY total_profit DESC LIMIT 1;\n",
            "=================================\u001b[1m Tool Message \u001b[0m=================================\n",
            "Name: sql_db_query_checker\n",
            "\n",
            "```sql\n",
            "SELECT strftime('%Y-%m', date) AS month, SUM(profit) AS total_profit FROM historical_data GROUP BY month ORDER BY total_profit DESC LIMIT 1;\n",
            "```\n",
            "==================================\u001b[1m Ai Message \u001b[0m==================================\n",
            "Tool Calls:\n",
            "  sql_db_query (call_2WFrZcJceVzNSgqOwJ7yIQeH)\n",
            " Call ID: call_2WFrZcJceVzNSgqOwJ7yIQeH\n",
            "  Args:\n",
            "    query: SELECT strftime('%Y-%m', date) AS month, SUM(sales) AS total_sales, SUM(profit) AS total_profit FROM historical_data GROUP BY month ORDER BY total_sales DESC LIMIT 1;\n",
            "  sql_db_query (call_sOdUz9Rb25qxgqzaWDRoy8II)\n",
            " Call ID: call_sOdUz9Rb25qxgqzaWDRoy8II\n",
            "  Args:\n",
            "    query: SELECT strftime('%Y-%m', date) AS month, SUM(profit) AS total_profit FROM historical_data GROUP BY month ORDER BY total_profit DESC LIMIT 1;\n",
            "=================================\u001b[1m Tool Message \u001b[0m=================================\n",
            "Name: sql_db_query\n",
            "\n",
            "[('2023-11', 68295.0)]\n",
            "==================================\u001b[1m Ai Message \u001b[0m==================================\n",
            "\n",
            "The highest selling month is **December 2023** with total sales of **128** units. \n",
            "\n",
            "The most profitable month is **November 2023** with a total profit of **68,295.0**.\n"
          ]
        }
      ]
    },
    {
      "cell_type": "markdown",
      "source": [
        "## Returning final output only\n",
        "\n",
        "## skipping all the intermediate steps"
      ],
      "metadata": {
        "id": "DCSZ0AwAF8jg"
      }
    },
    {
      "cell_type": "code",
      "source": [
        "def get_sql_reponse(question):\n",
        "  for step in sql_agent_executor.stream(\n",
        "      {\"messages\": [{\"role\": \"user\", \"content\": question}]},\n",
        "      stream_mode=\"values\",\n",
        "  ):\n",
        "      if step['messages'][-1].response_metadata.get('finish_reason')=='stop':\n",
        "        try:\n",
        "          return step['messages'][-1].content\n",
        "        except:\n",
        "          return \"I don't know\"\n",
        "\n",
        "get_sql_reponse(\"Which customer spent the most?\")"
      ],
      "metadata": {
        "colab": {
          "base_uri": "https://localhost:8080/",
          "height": 53
        },
        "id": "XYpIrBl84VXt",
        "outputId": "ccd7174e-f7bd-4c75-a67a-6ff92b4222a8"
      },
      "execution_count": null,
      "outputs": [
        {
          "output_type": "execute_result",
          "data": {
            "text/plain": [
              "\"The customers who spent the most are as follows:\\n\\n1. Helena Holý - $49.62\\n2. Richard Cunningham - $47.62\\n3. Luis Rojas - $46.62\\n4. Ladislav Kovács - $45.62\\n5. Hugh O'Reilly - $45.62\""
            ],
            "application/vnd.google.colaboratory.intrinsic+json": {
              "type": "string"
            }
          },
          "metadata": {},
          "execution_count": 20
        }
      ]
    },
    {
      "cell_type": "code",
      "source": [
        "get_sql_reponse(\"What is full name of Helena?\")"
      ],
      "metadata": {
        "id": "qQrVIIksfszW",
        "colab": {
          "base_uri": "https://localhost:8080/",
          "height": 35
        },
        "outputId": "97b5ed41-1d59-45ac-8a21-70b1121e468d"
      },
      "execution_count": null,
      "outputs": [
        {
          "output_type": "execute_result",
          "data": {
            "text/plain": [
              "'The full name of Helena is Helena Holý.'"
            ],
            "application/vnd.google.colaboratory.intrinsic+json": {
              "type": "string"
            }
          },
          "metadata": {},
          "execution_count": 21
        }
      ]
    },
    {
      "cell_type": "code",
      "source": [],
      "metadata": {
        "id": "cJuUCuoUPK39"
      },
      "execution_count": null,
      "outputs": []
    },
    {
      "cell_type": "code",
      "source": [],
      "metadata": {
        "id": "A9PMpfoaPZQX"
      },
      "execution_count": null,
      "outputs": []
    }
  ]
}