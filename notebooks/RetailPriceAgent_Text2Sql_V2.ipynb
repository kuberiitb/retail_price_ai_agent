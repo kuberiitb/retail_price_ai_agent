{
  "nbformat": 4,
  "nbformat_minor": 0,
  "metadata": {
    "colab": {
      "provenance": [],
      "include_colab_link": true
    },
    "kernelspec": {
      "name": "python3",
      "display_name": "Python 3"
    },
    "language_info": {
      "name": "python"
    }
  },
  "cells": [
    {
      "cell_type": "markdown",
      "metadata": {
        "id": "view-in-github",
        "colab_type": "text"
      },
      "source": [
        "<a href=\"https://colab.research.google.com/github/kuberiitb/retail_price_ai_agent/blob/main/notebooks/RetailPriceAgent_Text2Sql_V2.ipynb\" target=\"_parent\"><img src=\"https://colab.research.google.com/assets/colab-badge.svg\" alt=\"Open In Colab\"/></a>"
      ]
    },
    {
      "cell_type": "markdown",
      "source": [
        "Agent created using code from [LangGraph Tutorial](https://python.langchain.com/docs/tutorials/sql_qa/)"
      ],
      "metadata": {
        "id": "v-cqjNmtPa-c"
      }
    },
    {
      "cell_type": "code",
      "execution_count": 1,
      "metadata": {
        "id": "EFRwAe-hOkeC",
        "colab": {
          "base_uri": "https://localhost:8080/"
        },
        "outputId": "bdd06c5e-a602-4046-8f7e-a460b361cd26"
      },
      "outputs": [
        {
          "output_type": "stream",
          "name": "stdout",
          "text": [
            "\u001b[2K   \u001b[90m━━━━━━━━━━━━━━━━━━━━━━━━━━━━━━━━━━━━━━━━\u001b[0m \u001b[32m2.5/2.5 MB\u001b[0m \u001b[31m28.1 MB/s\u001b[0m eta \u001b[36m0:00:00\u001b[0m\n",
            "\u001b[2K   \u001b[90m━━━━━━━━━━━━━━━━━━━━━━━━━━━━━━━━━━━━━━━━\u001b[0m \u001b[32m76.0/76.0 kB\u001b[0m \u001b[31m4.9 MB/s\u001b[0m eta \u001b[36m0:00:00\u001b[0m\n",
            "\u001b[2K   \u001b[90m━━━━━━━━━━━━━━━━━━━━━━━━━━━━━━━━━━━━━━━━\u001b[0m \u001b[32m154.8/154.8 kB\u001b[0m \u001b[31m9.7 MB/s\u001b[0m eta \u001b[36m0:00:00\u001b[0m\n",
            "\u001b[2K   \u001b[90m━━━━━━━━━━━━━━━━━━━━━━━━━━━━━━━━━━━━━━━━\u001b[0m \u001b[32m449.6/449.6 kB\u001b[0m \u001b[31m24.0 MB/s\u001b[0m eta \u001b[36m0:00:00\u001b[0m\n",
            "\u001b[2K   \u001b[90m━━━━━━━━━━━━━━━━━━━━━━━━━━━━━━━━━━━━━━━━\u001b[0m \u001b[32m45.8/45.8 kB\u001b[0m \u001b[31m2.5 MB/s\u001b[0m eta \u001b[36m0:00:00\u001b[0m\n",
            "\u001b[2K   \u001b[90m━━━━━━━━━━━━━━━━━━━━━━━━━━━━━━━━━━━━━━━━\u001b[0m \u001b[32m56.8/56.8 kB\u001b[0m \u001b[31m3.8 MB/s\u001b[0m eta \u001b[36m0:00:00\u001b[0m\n",
            "\u001b[2K   \u001b[90m━━━━━━━━━━━━━━━━━━━━━━━━━━━━━━━━━━━━━━━━\u001b[0m \u001b[32m64.7/64.7 kB\u001b[0m \u001b[31m3.9 MB/s\u001b[0m eta \u001b[36m0:00:00\u001b[0m\n",
            "\u001b[2K   \u001b[90m━━━━━━━━━━━━━━━━━━━━━━━━━━━━━━━━━━━━━━━━\u001b[0m \u001b[32m50.9/50.9 kB\u001b[0m \u001b[31m3.0 MB/s\u001b[0m eta \u001b[36m0:00:00\u001b[0m\n",
            "\u001b[2K   \u001b[90m━━━━━━━━━━━━━━━━━━━━━━━━━━━━━━━━━━━━━━━━\u001b[0m \u001b[32m207.6/207.6 kB\u001b[0m \u001b[31m11.9 MB/s\u001b[0m eta \u001b[36m0:00:00\u001b[0m\n",
            "\u001b[?25h\u001b[31mERROR: pip's dependency resolver does not currently take into account all the packages that are installed. This behaviour is the source of the following dependency conflicts.\n",
            "google-colab 1.0.0 requires requests==2.32.4, but you have requests 2.32.5 which is incompatible.\u001b[0m\u001b[31m\n",
            "\u001b[0m"
          ]
        }
      ],
      "source": [
        "!pip install langchain langchain_community langchain-openai langgraph ipython --quiet"
      ]
    },
    {
      "cell_type": "markdown",
      "source": [
        "# Setting up SQL data"
      ],
      "metadata": {
        "id": "NcBT-c-aGVdH"
      }
    },
    {
      "cell_type": "code",
      "source": [
        "from langchain_community.utilities import SQLDatabase\n",
        "\n",
        "db = SQLDatabase.from_uri(\"sqlite:///retail_price_agent.db\")\n",
        "print(db.get_usable_table_names())"
      ],
      "metadata": {
        "colab": {
          "base_uri": "https://localhost:8080/"
        },
        "id": "xSuvuhFfQlQw",
        "outputId": "8605f55e-0cf8-4ee8-d0d8-15c3efdfc20e"
      },
      "execution_count": 17,
      "outputs": [
        {
          "output_type": "stream",
          "name": "stdout",
          "text": [
            "['competitior_information', 'current_product_information', 'forecast_data', 'historical_data', 'inventory_data']\n"
          ]
        }
      ]
    },
    {
      "cell_type": "code",
      "source": [
        "print(db.get_table_info([\"historical_data\"]))"
      ],
      "metadata": {
        "colab": {
          "base_uri": "https://localhost:8080/"
        },
        "id": "BEzGs_FIqjO_",
        "outputId": "d0919e30-3f27-4201-b153-14d152c6acdd"
      },
      "execution_count": 18,
      "outputs": [
        {
          "output_type": "stream",
          "name": "stdout",
          "text": [
            "\n",
            "CREATE TABLE historical_data (\n",
            "\tsku_id INTEGER, \n",
            "\tproduct_name TEXT, \n",
            "\tcategory TEXT, \n",
            "\tdate TIMESTAMP, \n",
            "\tunit_price REAL, \n",
            "\tunit_cost REAL, \n",
            "\tdiscount_pct REAL, \n",
            "\tseasonality_factor REAL, \n",
            "\tunits_sold REAL, \n",
            "\trevenue REAL, \n",
            "\tprofit REAL\n",
            ")\n",
            "\n",
            "/*\n",
            "3 rows from historical_data table:\n",
            "sku_id\tproduct_name\tcategory\tdate\tunit_price\tunit_cost\tdiscount_pct\tseasonality_factor\tunits_sold\trevenue\tprofit\n",
            "1\tt-shirt\tmen\t2023-06-01 00:00:00\t1165.0\t753.0\t20.0\t1.1\t57.0\t66405.0\t23484.0\n",
            "1\tt-shirt\tmen\t2023-07-01 00:00:00\t1171.0\t753.0\t20.0\t1.1\t56.0\t65576.0\t23408.0\n",
            "1\tt-shirt\tmen\t2023-08-01 00:00:00\t1456.0\t753.0\t0.0\t1.1\t38.0\t55328.0\t26714.0\n",
            "*/\n"
          ]
        }
      ]
    },
    {
      "cell_type": "code",
      "source": [
        "db.run(\"SELECT * FROM historical_data LIMIT 10;\")"
      ],
      "metadata": {
        "colab": {
          "base_uri": "https://localhost:8080/",
          "height": 174
        },
        "id": "xsrTrnIep2OM",
        "outputId": "456ba43b-6ac9-42b4-d768-5908a3eb972b"
      },
      "execution_count": 19,
      "outputs": [
        {
          "output_type": "execute_result",
          "data": {
            "text/plain": [
              "\"[(1, 't-shirt', 'men', '2023-06-01 00:00:00', 1165.0, 753.0, 20.0, 1.1, 57.0, 66405.0, 23484.0), (1, 't-shirt', 'men', '2023-07-01 00:00:00', 1171.0, 753.0, 20.0, 1.1, 56.0, 65576.0, 23408.0), (1, 't-shirt', 'men', '2023-08-01 00:00:00', 1456.0, 753.0, 0.0, 1.1, 38.0, 55328.0, 26714.0), (1, 't-shirt', 'men', '2023-09-01 00:00:00', 1460.0, 753.0, 0.0, 0.9, 31.0, 45260.0, 21917.0), (1, 't-shirt', 'men', '2023-10-01 00:00:00', 1453.0, 753.0, 0.0, 0.9, 31.0, 45043.0, 21700.0), (1, 't-shirt', 'men', '2023-11-01 00:00:00', 1452.0, 753.0, 0.0, 1.3, 45.0, 65340.0, 31455.0), (1, 't-shirt', 'men', '2023-12-01 00:00:00', 1161.0, 753.0, 20.0, 1.3, 67.0, 77787.0, 27336.0), (1, 't-shirt', 'men', '2024-01-01 00:00:00', 1455.0, 753.0, 0.0, 0.9, 31.0, 45105.0, 21762.0), (1, 't-shirt', 'men', '2024-02-01 00:00:00', 1450.0, 753.0, 0.0, 0.9, 31.0, 44950.0, 21607.0), (1, 't-shirt', 'men', '2024-03-01 00:00:00', 1461.0, 753.0, 0.0, 0.9, 31.0, 45291.0, 21948.0)]\""
            ],
            "application/vnd.google.colaboratory.intrinsic+json": {
              "type": "string"
            }
          },
          "metadata": {},
          "execution_count": 19
        }
      ]
    },
    {
      "cell_type": "code",
      "source": [
        "db.run(\"SELECT * FROM competitior_information LIMIT 10;\")"
      ],
      "metadata": {
        "colab": {
          "base_uri": "https://localhost:8080/",
          "height": 35
        },
        "id": "QcFVCqHSp2Qq",
        "outputId": "fd140f22-80c0-437f-eff9-4d37dc8b09a8"
      },
      "execution_count": 20,
      "outputs": [
        {
          "output_type": "execute_result",
          "data": {
            "text/plain": [
              "\"[(1, 't-shirt', 'men', 864.5, 'BTGO', 0.3), (8, 't-shirt', 'women', 946.4, 'BTGO', 0.3)]\""
            ],
            "application/vnd.google.colaboratory.intrinsic+json": {
              "type": "string"
            }
          },
          "metadata": {},
          "execution_count": 20
        }
      ]
    },
    {
      "cell_type": "code",
      "source": [
        "db.run(\"SELECT * FROM forecast_data LIMIT 10;\")"
      ],
      "metadata": {
        "colab": {
          "base_uri": "https://localhost:8080/",
          "height": 105
        },
        "id": "_POScAN7p2Sx",
        "outputId": "776603a0-c05a-4ab4-8393-060ca7b9d777"
      },
      "execution_count": 21,
      "outputs": [
        {
          "output_type": "execute_result",
          "data": {
            "text/plain": [
              "\"[(1, 't-shirt', 'men', '2025-09-01 00:00:00', 41.0), (1, 't-shirt', 'men', '2025-10-01 00:00:00', 41.0), (1, 't-shirt', 'men', '2025-11-01 00:00:00', 41.0), (1, 't-shirt', 'men', '2025-12-01 00:00:00', 41.0), (1, 't-shirt', 'men', '2026-01-01 00:00:00', 41.0), (1, 't-shirt', 'men', '2026-02-01 00:00:00', 41.0), (8, 't-shirt', 'women', '2025-09-01 00:00:00', 33.0), (8, 't-shirt', 'women', '2025-10-01 00:00:00', 33.0), (8, 't-shirt', 'women', '2025-11-01 00:00:00', 33.0), (8, 't-shirt', 'women', '2025-12-01 00:00:00', 33.0)]\""
            ],
            "application/vnd.google.colaboratory.intrinsic+json": {
              "type": "string"
            }
          },
          "metadata": {},
          "execution_count": 21
        }
      ]
    },
    {
      "cell_type": "code",
      "source": [
        "db.run(\"SELECT * FROM inventory_data LIMIT 10;\")"
      ],
      "metadata": {
        "colab": {
          "base_uri": "https://localhost:8080/",
          "height": 35
        },
        "id": "89tN7Vnap9mD",
        "outputId": "368551b6-a74f-4a54-c831-2754c2e8b955"
      },
      "execution_count": 22,
      "outputs": [
        {
          "output_type": "execute_result",
          "data": {
            "text/plain": [
              "\"[(1, 't-shirt', 'men', 82.0), (8, 't-shirt', 'women', 99.0)]\""
            ],
            "application/vnd.google.colaboratory.intrinsic+json": {
              "type": "string"
            }
          },
          "metadata": {},
          "execution_count": 22
        }
      ]
    },
    {
      "cell_type": "code",
      "source": [
        "db.run(\"SELECT * FROM current_product_information LIMIT 10;\")"
      ],
      "metadata": {
        "colab": {
          "base_uri": "https://localhost:8080/",
          "height": 35
        },
        "id": "KHI8ksUhHai9",
        "outputId": "b490cdfe-4521-4499-9dc1-5a78a12a3d91"
      },
      "execution_count": 23,
      "outputs": [
        {
          "output_type": "execute_result",
          "data": {
            "text/plain": [
              "'[(1, 1460.0, 500.0, -1.06, 0.94), (8, 1820.0, 800.0, -0.93, 1.08)]'"
            ],
            "application/vnd.google.colaboratory.intrinsic+json": {
              "type": "string"
            }
          },
          "metadata": {},
          "execution_count": 23
        }
      ]
    },
    {
      "cell_type": "code",
      "source": [
        "from sqlalchemy import create_engine, inspect\n",
        "\n",
        "engine = create_engine(\"sqlite:///retail_price_agent.db\")\n",
        "inspector = inspect(engine)\n",
        "\n",
        "columns = inspector.get_columns(\"inventory_data\")\n",
        "for col in columns:\n",
        "    print(col[\"name\"], col[\"type\"])"
      ],
      "metadata": {
        "id": "JRB0mr_UqMN_",
        "colab": {
          "base_uri": "https://localhost:8080/"
        },
        "outputId": "e5288e0e-3a4d-4dea-d721-575f6b17a526"
      },
      "execution_count": 24,
      "outputs": [
        {
          "output_type": "stream",
          "name": "stdout",
          "text": [
            "sku_id INTEGER\n",
            "product_name TEXT\n",
            "category TEXT\n",
            "stock REAL\n"
          ]
        }
      ]
    },
    {
      "cell_type": "code",
      "source": [
        "# Langgraph State\n",
        "from typing_extensions import TypedDict\n",
        "\n",
        "class State(TypedDict):\n",
        "    question: str\n",
        "    query: str\n",
        "    result: str\n",
        "    answer: str"
      ],
      "metadata": {
        "id": "DzwZc7-BROow"
      },
      "execution_count": 25,
      "outputs": []
    },
    {
      "cell_type": "markdown",
      "source": [
        "# Setup LLM"
      ],
      "metadata": {
        "id": "R4TGknQhOeZi"
      }
    },
    {
      "cell_type": "code",
      "source": [
        "import os\n",
        "from dotenv import load_dotenv\n",
        "load_dotenv(\".env\")"
      ],
      "metadata": {
        "colab": {
          "base_uri": "https://localhost:8080/"
        },
        "id": "DD09jynQSuDd",
        "outputId": "8bc8f7a6-1ea4-4391-869d-fc2b97f3a2ff"
      },
      "execution_count": 26,
      "outputs": [
        {
          "output_type": "execute_result",
          "data": {
            "text/plain": [
              "True"
            ]
          },
          "metadata": {},
          "execution_count": 26
        }
      ]
    },
    {
      "cell_type": "code",
      "source": [
        "# from langchain.chat_models import ChatOpenAI\n",
        "\n",
        "if not os.environ[\"OPENAI_API_KEY\"]:\n",
        "    os.environ[\"OPENAI_API_KEY\"] = os.getenv(\"OPENAI_API_KEY\")\n",
        "\n",
        "# llm = ChatOpenAI(model=\"gpt-4o-mini\", temperature=0.1)\n",
        "\n",
        "from langchain.chat_models import init_chat_model\n",
        "\n",
        "llm = init_chat_model(\"gpt-4o-mini\", model_provider=\"openai\")"
      ],
      "metadata": {
        "id": "Rimz3dC8RkFe"
      },
      "execution_count": 27,
      "outputs": []
    },
    {
      "cell_type": "code",
      "source": [
        "llm.invoke(\"Hi\").content"
      ],
      "metadata": {
        "colab": {
          "base_uri": "https://localhost:8080/",
          "height": 35
        },
        "id": "EvHMUwglSiRr",
        "outputId": "ca4b6c86-bac7-48b0-dc14-c4eb1ed49451"
      },
      "execution_count": 28,
      "outputs": [
        {
          "output_type": "execute_result",
          "data": {
            "text/plain": [
              "'Hello! How can I assist you today?'"
            ],
            "application/vnd.google.colaboratory.intrinsic+json": {
              "type": "string"
            }
          },
          "metadata": {},
          "execution_count": 28
        }
      ]
    },
    {
      "cell_type": "markdown",
      "source": [
        "# Using inbuilt Langgraph ReAct agent"
      ],
      "metadata": {
        "id": "P8-zZ3ayeYR4"
      }
    },
    {
      "cell_type": "code",
      "source": [
        "from langchain_community.agent_toolkits import SQLDatabaseToolkit\n",
        "\n",
        "toolkit = SQLDatabaseToolkit(db=db, llm=llm)\n",
        "\n",
        "tools = toolkit.get_tools()\n",
        "\n",
        "for t in tools:\n",
        "  print(t.name, \":\", t.description)"
      ],
      "metadata": {
        "colab": {
          "base_uri": "https://localhost:8080/"
        },
        "id": "LRtg8cLfd_tO",
        "outputId": "d0117560-2bc6-4436-8179-526a12d3a1da"
      },
      "execution_count": 29,
      "outputs": [
        {
          "output_type": "stream",
          "name": "stdout",
          "text": [
            "sql_db_query : Input to this tool is a detailed and correct SQL query, output is a result from the database. If the query is not correct, an error message will be returned. If an error is returned, rewrite the query, check the query, and try again. If you encounter an issue with Unknown column 'xxxx' in 'field list', use sql_db_schema to query the correct table fields.\n",
            "sql_db_schema : Input to this tool is a comma-separated list of tables, output is the schema and sample rows for those tables. Be sure that the tables actually exist by calling sql_db_list_tables first! Example Input: table1, table2, table3\n",
            "sql_db_list_tables : Input is an empty string, output is a comma-separated list of tables in the database.\n",
            "sql_db_query_checker : Use this tool to double check if your query is correct before executing it. Always use this tool before executing a query with sql_db_query!\n"
          ]
        }
      ]
    },
    {
      "cell_type": "code",
      "source": [
        "database_information = \"\"\"\"\n",
        "TABLE: historical_data - Contains historical monthly-level sales, pricing, and profit data for each SKU.\n",
        "\n",
        "COLUMN: sku_id - Unique identifier for each product-category combination.\n",
        "\n",
        "COLUMN: product_name - Name of the specific product.\n",
        "\n",
        "COLUMN: category - Category or department the product belongs to.\n",
        "\n",
        "COLUMN: date - Month (or month-start date) representing the sales period.\n",
        "\n",
        "COLUMN: unit_price - Actual selling price per unit after applying discounts.\n",
        "\n",
        "COLUMN: unit_cost - Cost to produce or acquire one unit of the product.\n",
        "\n",
        "COLUMN: discount_pct - Percentage discount applied to the base price.\n",
        "\n",
        "COLUMN: seasonality_factor - Seasonal adjustment factor reflecting demand fluctuations.\n",
        "\n",
        "COLUMN: units_sold - Total quantity sold for the SKU during the given period.\n",
        "\n",
        "COLUMN: revenue - Total revenue generated = unit_price * units_sold.\n",
        "\n",
        "COLUMN: profit - Total profit = (unit_price - unit_cost) * units_sold.\n",
        "\n",
        "#########################################################################################\n",
        "\n",
        "TABLE: current_product_information - Stores reference or metadata information about each SKU used for pricing and forecasting.\n",
        "\n",
        "COLUMN: sku_id - Unique identifier for each product-category combination.\n",
        "\n",
        "COLUMN: base_price - Reference or standard list price of the product.\n",
        "\n",
        "COLUMN: base_demand - Baseline expected demand level for the product.\n",
        "\n",
        "COLUMN: elasticity - Price elasticity coefficient indicating sensitivity of demand to price changes.\n",
        "\n",
        "COLUMN: margin - Target profit margin ratio derived from elasticity or business rules.\n",
        "\n",
        "#########################################################################################\n",
        "TABLE: forecast_data - Contains forecasted monthly unit sales for each SKU based on predictive modeling.\n",
        "\n",
        "COLUMN: sku_id - Unique identifier for each product-category combination.\n",
        "\n",
        "COLUMN: product_name - Name of the specific product.\n",
        "\n",
        "COLUMN: category - Category or department the product belongs to.\n",
        "\n",
        "COLUMN: date - Forecast month or future period.\n",
        "\n",
        "COLUMN: units_sale - Forecasted number of units expected to be sold.\n",
        "\n",
        "#########################################################################################\n",
        "\n",
        "TABLE: inventory_data - Tracks current stock levels for each SKU in the inventory.\n",
        "\n",
        "COLUMN: sku_id - Unique identifier for each product-category combination.\n",
        "\n",
        "COLUMN: product_name - Name of the specific product.\n",
        "\n",
        "COLUMN: category - Category or department the product belongs to.\n",
        "\n",
        "COLUMN: stock - Current quantity of the SKU available in inventory.\n",
        "\n",
        "#########################################################################################\n",
        "\n",
        "TABLE: competitior_information - Captures competitor pricing and promotion details for comparative analysis.\n",
        "\n",
        "COLUMN: sku_id - Unique identifier representing the same or equivalent SKU.\n",
        "\n",
        "COLUMN: product_name - Name of the product for cross-reference with competitors.\n",
        "\n",
        "COLUMN: category - Product category for comparison.\n",
        "\n",
        "COLUMN: unit_price - Competitor’s selling price for the product.\n",
        "\n",
        "COLUMN: promotion - Competitor’s promotion or offer label (e.g., \"BOGO\",\"NONE\" or discount value).\n",
        "\n",
        "COLUMN: discount_pct - Discount percentage applied by the competitor, if available.\n",
        "\"\"\""
      ],
      "metadata": {
        "id": "8BQvfjIeJAQ5"
      },
      "execution_count": 47,
      "outputs": []
    },
    {
      "cell_type": "code",
      "source": [
        "from langchain_core.messages import HumanMessage\n",
        "from langgraph.prebuilt import create_react_agent\n",
        "\n",
        "extra_details_about_data = \"\"\"\n",
        "1. SKU means product_name+category combination, can be represented by sku_id\n",
        "2. product means product_name unless specified otherwise.\n",
        "3. While returning SKU information, mention its details like product_name and category.\n",
        "4. All the price and revenue information is in INR.\n",
        "\"\"\"\n",
        "\n",
        "system_message = \"\"\"\n",
        "You are an agent designed to interact with a SQL database.\n",
        "Given an input question, create a syntactically correct {dialect} query to run,\n",
        "then look at the results of the query and return the answer. Unless the user\n",
        "specifies a specific number of examples they wish to obtain, always limit your\n",
        "query to at most {top_k} results.\n",
        "\n",
        "{extra_details_about_data}\n",
        "\n",
        "You can order the results by a relevant column to return the most interesting\n",
        "examples in the database. Never query for all the columns from a specific table,\n",
        "only ask for the relevant columns given the question.\n",
        "\n",
        "You MUST double check your query before executing it. If you get an error while\n",
        "executing a query, rewrite the query and try again.\n",
        "\n",
        "DO NOT make any DML statements (INSERT, UPDATE, DELETE, DROP etc.) to the\n",
        "database.\n",
        "\n",
        "To start you should ALWAYS look at the tables in the database to see what you\n",
        "can query. Do NOT skip this step.\n",
        "\n",
        "Use this description of tables and columns for reference.\n",
        "{database_information}\n",
        "\n",
        "Then you should query the schema of the most relevant tables.\n",
        "\n",
        "Business context:\n",
        "Product usually means product-category combination.\n",
        "\"\"\".format(\n",
        "    dialect=\"SQLite\",\n",
        "    top_k=5,\n",
        "    database_information=database_information,\n",
        "    extra_details_about_data=extra_details_about_data\n",
        ")\n",
        "\n",
        "sql_agent_executor = create_react_agent(llm, tools, prompt=system_message)"
      ],
      "metadata": {
        "id": "COUZqtOWZsJb"
      },
      "execution_count": 48,
      "outputs": []
    },
    {
      "cell_type": "markdown",
      "source": [
        "## Example with pretty printing"
      ],
      "metadata": {
        "id": "vSoknNDEF1u8"
      }
    },
    {
      "cell_type": "code",
      "source": [
        "question = \"Which is highest selling SKU_ID?\"\n",
        "\n",
        "for step in sql_agent_executor.stream(\n",
        "    {\"messages\": [{\"role\": \"user\", \"content\": question}]},\n",
        "    stream_mode=\"values\",\n",
        "):\n",
        "    step[\"messages\"][-1].pretty_print()"
      ],
      "metadata": {
        "colab": {
          "base_uri": "https://localhost:8080/"
        },
        "id": "8iOnt9qjcSNn",
        "outputId": "78ed5020-8230-4086-ef6c-cbb4ab4ea0e4"
      },
      "execution_count": 49,
      "outputs": [
        {
          "output_type": "stream",
          "name": "stdout",
          "text": [
            "================================\u001b[1m Human Message \u001b[0m=================================\n",
            "\n",
            "Which is highest selling SKU_ID?\n",
            "==================================\u001b[1m Ai Message \u001b[0m==================================\n",
            "Tool Calls:\n",
            "  sql_db_list_tables (call_1KnJN0cOVnlsjKuRnV8Mq651)\n",
            " Call ID: call_1KnJN0cOVnlsjKuRnV8Mq651\n",
            "  Args:\n",
            "=================================\u001b[1m Tool Message \u001b[0m=================================\n",
            "Name: sql_db_list_tables\n",
            "\n",
            "competitior_information, current_product_information, forecast_data, historical_data, inventory_data\n",
            "==================================\u001b[1m Ai Message \u001b[0m==================================\n",
            "Tool Calls:\n",
            "  sql_db_schema (call_6zpVn3n8wHK8af8nliEBOceq)\n",
            " Call ID: call_6zpVn3n8wHK8af8nliEBOceq\n",
            "  Args:\n",
            "    table_names: historical_data\n",
            "=================================\u001b[1m Tool Message \u001b[0m=================================\n",
            "Name: sql_db_schema\n",
            "\n",
            "\n",
            "CREATE TABLE historical_data (\n",
            "\tsku_id INTEGER, \n",
            "\tproduct_name TEXT, \n",
            "\tcategory TEXT, \n",
            "\tdate TIMESTAMP, \n",
            "\tunit_price REAL, \n",
            "\tunit_cost REAL, \n",
            "\tdiscount_pct REAL, \n",
            "\tseasonality_factor REAL, \n",
            "\tunits_sold REAL, \n",
            "\trevenue REAL, \n",
            "\tprofit REAL\n",
            ")\n",
            "\n",
            "/*\n",
            "3 rows from historical_data table:\n",
            "sku_id\tproduct_name\tcategory\tdate\tunit_price\tunit_cost\tdiscount_pct\tseasonality_factor\tunits_sold\trevenue\tprofit\n",
            "1\tt-shirt\tmen\t2023-06-01 00:00:00\t1165.0\t753.0\t20.0\t1.1\t57.0\t66405.0\t23484.0\n",
            "1\tt-shirt\tmen\t2023-07-01 00:00:00\t1171.0\t753.0\t20.0\t1.1\t56.0\t65576.0\t23408.0\n",
            "1\tt-shirt\tmen\t2023-08-01 00:00:00\t1456.0\t753.0\t0.0\t1.1\t38.0\t55328.0\t26714.0\n",
            "*/\n",
            "==================================\u001b[1m Ai Message \u001b[0m==================================\n",
            "Tool Calls:\n",
            "  sql_db_query_checker (call_M4WuvcXa1sAo4dT1nd9LElGT)\n",
            " Call ID: call_M4WuvcXa1sAo4dT1nd9LElGT\n",
            "  Args:\n",
            "    query: SELECT sku_id, SUM(units_sold) AS total_units_sold FROM historical_data GROUP BY sku_id ORDER BY total_units_sold DESC LIMIT 1;\n",
            "=================================\u001b[1m Tool Message \u001b[0m=================================\n",
            "Name: sql_db_query_checker\n",
            "\n",
            "```sql\n",
            "SELECT sku_id, SUM(units_sold) AS total_units_sold FROM historical_data GROUP BY sku_id ORDER BY total_units_sold DESC LIMIT 1;\n",
            "```\n",
            "==================================\u001b[1m Ai Message \u001b[0m==================================\n",
            "Tool Calls:\n",
            "  sql_db_query (call_v6LwvTTq7c58RfKZvtdk0Qlu)\n",
            " Call ID: call_v6LwvTTq7c58RfKZvtdk0Qlu\n",
            "  Args:\n",
            "    query: SELECT sku_id, SUM(units_sold) AS total_units_sold FROM historical_data GROUP BY sku_id ORDER BY total_units_sold DESC LIMIT 1;\n",
            "=================================\u001b[1m Tool Message \u001b[0m=================================\n",
            "Name: sql_db_query\n",
            "\n",
            "[(1, 1119.0)]\n",
            "==================================\u001b[1m Ai Message \u001b[0m==================================\n",
            "\n",
            "The highest selling SKU_ID is **1**, with a total of **1119 units sold**.\n"
          ]
        }
      ]
    },
    {
      "cell_type": "markdown",
      "source": [
        "## Returning final output only\n",
        "\n",
        "## skipping all the intermediate steps"
      ],
      "metadata": {
        "id": "DCSZ0AwAF8jg"
      }
    },
    {
      "cell_type": "code",
      "source": [
        "def get_sql_reponse(question):\n",
        "  for step in sql_agent_executor.stream(\n",
        "      {\"messages\": [{\"role\": \"user\", \"content\": question}]},\n",
        "      stream_mode=\"values\",\n",
        "  ):\n",
        "      if step['messages'][-1].response_metadata.get('finish_reason')=='stop':\n",
        "        try:\n",
        "          return display(Markdown(step['messages'][-1].content))\n",
        "        except:\n",
        "          return display(Markdown(\"I don't know\"))\n",
        "\n",
        "get_sql_reponse(\"Which is most profitable SKU_ID?\")"
      ],
      "metadata": {
        "colab": {
          "base_uri": "https://localhost:8080/",
          "height": 46
        },
        "id": "XYpIrBl84VXt",
        "outputId": "61023dc1-9675-4798-811e-48c5dda015e6"
      },
      "execution_count": 68,
      "outputs": [
        {
          "output_type": "display_data",
          "data": {
            "text/plain": [
              "<IPython.core.display.Markdown object>"
            ],
            "text/markdown": "The most profitable SKU_ID is 8, which corresponds to the product \"t-shirt\" in the \"women\" category, with a total profit of 693,898 INR."
          },
          "metadata": {}
        }
      ]
    },
    {
      "cell_type": "code",
      "source": [
        "get_sql_reponse(\"Which is most profitable SKU?\")"
      ],
      "metadata": {
        "colab": {
          "base_uri": "https://localhost:8080/",
          "height": 225
        },
        "id": "4k_UlQ78LV_i",
        "outputId": "e1c07e4f-7a1c-43e4-dd86-262df85001b4"
      },
      "execution_count": 69,
      "outputs": [
        {
          "output_type": "display_data",
          "data": {
            "text/plain": [
              "<IPython.core.display.Markdown object>"
            ],
            "text/markdown": "The most profitable SKUs are:\n\n1. SKU ID: 8\n   - Product Name: t-shirt\n   - Category: women\n   - Total Profit: ₹693,898.00\n\n2. SKU ID: 1\n   - Product Name: t-shirt\n   - Category: men\n   - Total Profit: ₹656,949.00"
          },
          "metadata": {}
        }
      ]
    },
    {
      "cell_type": "code",
      "source": [
        "get_sql_reponse(\"Which is most profitable SKU?\")"
      ],
      "metadata": {
        "colab": {
          "base_uri": "https://localhost:8080/",
          "height": 46
        },
        "id": "ZKSTD2_AKlRT",
        "outputId": "619947d3-e402-446b-aad4-13c682ee36f4"
      },
      "execution_count": 70,
      "outputs": [
        {
          "output_type": "display_data",
          "data": {
            "text/plain": [
              "<IPython.core.display.Markdown object>"
            ],
            "text/markdown": "The most profitable SKU is for the **t-shirt** in the **women** category, with a total profit of **INR 693,898**."
          },
          "metadata": {}
        }
      ]
    },
    {
      "cell_type": "code",
      "source": [
        "get_sql_reponse(\"Which is most profitable SKU of 2025?\")"
      ],
      "metadata": {
        "colab": {
          "base_uri": "https://localhost:8080/",
          "height": 53
        },
        "id": "CgzjumWoKyNp",
        "outputId": "36d8706f-5a66-4417-ebfb-1b9046f895f2"
      },
      "execution_count": 46,
      "outputs": [
        {
          "output_type": "execute_result",
          "data": {
            "text/plain": [
              "\"The most profitable SKU of 2025 is a t-shirt in the women's category, with a total profit of $196,767. The second most profitable SKU is a t-shirt in the men's category, with a total profit of $188,747.\""
            ],
            "application/vnd.google.colaboratory.intrinsic+json": {
              "type": "string"
            }
          },
          "metadata": {},
          "execution_count": 46
        }
      ]
    },
    {
      "cell_type": "code",
      "source": [
        "get_sql_reponse(\"What is most elastic SKU?\")"
      ],
      "metadata": {
        "id": "qQrVIIksfszW",
        "colab": {
          "base_uri": "https://localhost:8080/",
          "height": 46
        },
        "outputId": "bd884042-fd43-42fe-c588-1ec9d5373a62"
      },
      "execution_count": 71,
      "outputs": [
        {
          "output_type": "display_data",
          "data": {
            "text/plain": [
              "<IPython.core.display.Markdown object>"
            ],
            "text/markdown": "The most elastic SKU has an elasticity of **-1.06** and a base price of **INR 1460**. The SKU ID for this product-category combination is **1**."
          },
          "metadata": {}
        }
      ]
    }
  ]
}